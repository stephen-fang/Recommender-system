{
 "cells": [
  {
   "cell_type": "code",
   "execution_count": 4,
   "metadata": {},
   "outputs": [],
   "source": [
    "from sklearn.metrics import mean_squared_error\n",
    "\n",
    "import pandas as pd\n",
    "import numpy as np\n",
    "from numba import jit"
   ]
  },
  {
   "cell_type": "code",
   "execution_count": 8,
   "metadata": {},
   "outputs": [
    {
     "name": "stdout",
     "output_type": "stream",
     "text": [
      "(610, 193609) (610, 193609)\n"
     ]
    }
   ],
   "source": [
    "def get_Matrix(rating_path):\n",
    "        csv_df = pd.read_csv(rating_path)\n",
    "        users_size = np.max(csv_df['userId'])\n",
    "        movies_size = np.max(csv_df['movieId'])\n",
    "        \n",
    "        rating_M = np.zeros((users_size, movies_size))\n",
    "        \n",
    "        for row in csv_df.itertuples():\n",
    "            rating_M[row[1]-1,row[2]-1] = row[3]\n",
    "\n",
    "        return train_test_split(rating_M)\n",
    "    \n",
    "    \n",
    "def train_test_split(ratings):\n",
    "    test = np.zeros(ratings.shape)\n",
    "    train = ratings.copy()\n",
    "    for user in range(ratings.shape[0]):\n",
    "        test_ratings = np.random.choice(ratings[user, :].nonzero()[0], \n",
    "                                        size=10, \n",
    "                                        replace=False)\n",
    "        train[user, test_ratings] = 0.\n",
    "        test[user, test_ratings] = ratings[user, test_ratings]\n",
    "\n",
    "    # Test and training are truly disjoint\n",
    "    assert(np.all((train * test) == 0)) \n",
    "    return train, test\n",
    "\n",
    "\n",
    "train, test = get_Matrix('dataset/rating.csv')\n",
    "print(train.shape, test.shape)"
   ]
  },
  {
   "cell_type": "code",
   "execution_count": 11,
   "metadata": {},
   "outputs": [
    {
     "ename": "AttributeError",
     "evalue": "type object 'MemoryBCF' has no attribute '__defaults__'",
     "output_type": "error",
     "traceback": [
      "\u001b[0;31m---------------------------------------------------------------------------\u001b[0m",
      "\u001b[0;31mAttributeError\u001b[0m                            Traceback (most recent call last)",
      "\u001b[0;32m<ipython-input-11-c68ae5808436>\u001b[0m in \u001b[0;36m<module>\u001b[0;34m\u001b[0m\n\u001b[0;32m----> 1\u001b[0;31m \u001b[0;34m@\u001b[0m\u001b[0mjit\u001b[0m\u001b[0;34m\u001b[0m\u001b[0;34m\u001b[0m\u001b[0m\n\u001b[0m\u001b[1;32m      2\u001b[0m \u001b[0;32mclass\u001b[0m \u001b[0mMemoryBCF\u001b[0m\u001b[0;34m:\u001b[0m\u001b[0;34m\u001b[0m\u001b[0;34m\u001b[0m\u001b[0m\n\u001b[1;32m      3\u001b[0m     \u001b[0;32mdef\u001b[0m \u001b[0m__init__\u001b[0m\u001b[0;34m(\u001b[0m\u001b[0mself\u001b[0m\u001b[0;34m,\u001b[0m \u001b[0mtrain\u001b[0m\u001b[0;34m,\u001b[0m \u001b[0mtest\u001b[0m\u001b[0;34m,\u001b[0m \u001b[0mtype\u001b[0m\u001b[0;34m=\u001b[0m\u001b[0;34m'user'\u001b[0m\u001b[0;34m)\u001b[0m\u001b[0;34m:\u001b[0m\u001b[0;34m\u001b[0m\u001b[0;34m\u001b[0m\u001b[0m\n\u001b[1;32m      4\u001b[0m         \u001b[0mself\u001b[0m\u001b[0;34m.\u001b[0m\u001b[0mtype\u001b[0m \u001b[0;34m=\u001b[0m \u001b[0mtype\u001b[0m\u001b[0;34m\u001b[0m\u001b[0;34m\u001b[0m\u001b[0m\n\u001b[1;32m      5\u001b[0m         \u001b[0mself\u001b[0m\u001b[0;34m.\u001b[0m\u001b[0mrating_train_M\u001b[0m \u001b[0;34m=\u001b[0m \u001b[0mtrain\u001b[0m\u001b[0;34m\u001b[0m\u001b[0;34m\u001b[0m\u001b[0m\n",
      "\u001b[0;32m~/anaconda3/lib/python3.7/site-packages/numba/decorators.py\u001b[0m in \u001b[0;36mjit\u001b[0;34m(signature_or_function, locals, target, cache, pipeline_class, **options)\u001b[0m\n\u001b[1;32m    156\u001b[0m                    targetoptions=options, **dispatcher_args)\n\u001b[1;32m    157\u001b[0m     \u001b[0;32mif\u001b[0m \u001b[0mpyfunc\u001b[0m \u001b[0;32mis\u001b[0m \u001b[0;32mnot\u001b[0m \u001b[0;32mNone\u001b[0m\u001b[0;34m:\u001b[0m\u001b[0;34m\u001b[0m\u001b[0;34m\u001b[0m\u001b[0m\n\u001b[0;32m--> 158\u001b[0;31m         \u001b[0;32mreturn\u001b[0m \u001b[0mwrapper\u001b[0m\u001b[0;34m(\u001b[0m\u001b[0mpyfunc\u001b[0m\u001b[0;34m)\u001b[0m\u001b[0;34m\u001b[0m\u001b[0;34m\u001b[0m\u001b[0m\n\u001b[0m\u001b[1;32m    159\u001b[0m     \u001b[0;32melse\u001b[0m\u001b[0;34m:\u001b[0m\u001b[0;34m\u001b[0m\u001b[0;34m\u001b[0m\u001b[0m\n\u001b[1;32m    160\u001b[0m         \u001b[0;32mreturn\u001b[0m \u001b[0mwrapper\u001b[0m\u001b[0;34m\u001b[0m\u001b[0;34m\u001b[0m\u001b[0m\n",
      "\u001b[0;32m~/anaconda3/lib/python3.7/site-packages/numba/decorators.py\u001b[0m in \u001b[0;36mwrapper\u001b[0;34m(func)\u001b[0m\n\u001b[1;32m    172\u001b[0m         disp = dispatcher(py_func=func, locals=locals,\n\u001b[1;32m    173\u001b[0m                           \u001b[0mtargetoptions\u001b[0m\u001b[0;34m=\u001b[0m\u001b[0mtargetoptions\u001b[0m\u001b[0;34m,\u001b[0m\u001b[0;34m\u001b[0m\u001b[0;34m\u001b[0m\u001b[0m\n\u001b[0;32m--> 174\u001b[0;31m                           **dispatcher_args)\n\u001b[0m\u001b[1;32m    175\u001b[0m         \u001b[0;32mif\u001b[0m \u001b[0mcache\u001b[0m\u001b[0;34m:\u001b[0m\u001b[0;34m\u001b[0m\u001b[0;34m\u001b[0m\u001b[0m\n\u001b[1;32m    176\u001b[0m             \u001b[0mdisp\u001b[0m\u001b[0;34m.\u001b[0m\u001b[0menable_caching\u001b[0m\u001b[0;34m(\u001b[0m\u001b[0;34m)\u001b[0m\u001b[0;34m\u001b[0m\u001b[0;34m\u001b[0m\u001b[0m\n",
      "\u001b[0;32m~/anaconda3/lib/python3.7/site-packages/numba/dispatcher.py\u001b[0m in \u001b[0;36m__init__\u001b[0;34m(self, py_func, locals, targetoptions, impl_kind, pipeline_class)\u001b[0m\n\u001b[1;32m    546\u001b[0m \u001b[0;34m\u001b[0m\u001b[0m\n\u001b[1;32m    547\u001b[0m         _DispatcherBase.__init__(self, arg_count, py_func, pysig, can_fallback,\n\u001b[0;32m--> 548\u001b[0;31m                                  exact_match_required=False)\n\u001b[0m\u001b[1;32m    549\u001b[0m \u001b[0;34m\u001b[0m\u001b[0m\n\u001b[1;32m    550\u001b[0m         \u001b[0mfunctools\u001b[0m\u001b[0;34m.\u001b[0m\u001b[0mupdate_wrapper\u001b[0m\u001b[0;34m(\u001b[0m\u001b[0mself\u001b[0m\u001b[0;34m,\u001b[0m \u001b[0mpy_func\u001b[0m\u001b[0;34m)\u001b[0m\u001b[0;34m\u001b[0m\u001b[0;34m\u001b[0m\u001b[0m\n",
      "\u001b[0;32m~/anaconda3/lib/python3.7/site-packages/numba/dispatcher.py\u001b[0m in \u001b[0;36m__init__\u001b[0;34m(self, arg_count, py_func, pysig, can_fallback, exact_match_required)\u001b[0m\n\u001b[1;32m    181\u001b[0m \u001b[0;34m\u001b[0m\u001b[0m\n\u001b[1;32m    182\u001b[0m         \u001b[0margnames\u001b[0m \u001b[0;34m=\u001b[0m \u001b[0mtuple\u001b[0m\u001b[0;34m(\u001b[0m\u001b[0mpysig\u001b[0m\u001b[0;34m.\u001b[0m\u001b[0mparameters\u001b[0m\u001b[0;34m)\u001b[0m\u001b[0;34m\u001b[0m\u001b[0;34m\u001b[0m\u001b[0m\n\u001b[0;32m--> 183\u001b[0;31m         \u001b[0mdefault_values\u001b[0m \u001b[0;34m=\u001b[0m \u001b[0mself\u001b[0m\u001b[0;34m.\u001b[0m\u001b[0mpy_func\u001b[0m\u001b[0;34m.\u001b[0m\u001b[0m__defaults__\u001b[0m \u001b[0;32mor\u001b[0m \u001b[0;34m(\u001b[0m\u001b[0;34m)\u001b[0m\u001b[0;34m\u001b[0m\u001b[0;34m\u001b[0m\u001b[0m\n\u001b[0m\u001b[1;32m    184\u001b[0m         \u001b[0mdefargs\u001b[0m \u001b[0;34m=\u001b[0m \u001b[0mtuple\u001b[0m\u001b[0;34m(\u001b[0m\u001b[0mOmittedArg\u001b[0m\u001b[0;34m(\u001b[0m\u001b[0mval\u001b[0m\u001b[0;34m)\u001b[0m \u001b[0;32mfor\u001b[0m \u001b[0mval\u001b[0m \u001b[0;32min\u001b[0m \u001b[0mdefault_values\u001b[0m\u001b[0;34m)\u001b[0m\u001b[0;34m\u001b[0m\u001b[0;34m\u001b[0m\u001b[0m\n\u001b[1;32m    185\u001b[0m         \u001b[0;32mtry\u001b[0m\u001b[0;34m:\u001b[0m\u001b[0;34m\u001b[0m\u001b[0;34m\u001b[0m\u001b[0m\n",
      "\u001b[0;31mAttributeError\u001b[0m: type object 'MemoryBCF' has no attribute '__defaults__'"
     ]
    }
   ],
   "source": [
    "@jit\n",
    "class MemoryBCF:\n",
    "    def __init__(self, train, test, type='user'):\n",
    "        self.type = type\n",
    "        self.rating_train_M = train\n",
    "        self.rating_test_M = test\n",
    "        self.result = self.evaluate()\n",
    "    @jit\n",
    "    def _sim(self, ratings, epsilon=1e-9):\n",
    "        if self.type == 'user':\n",
    "            sim = ratings.dot(ratings.T) + epsilon\n",
    "        elif self.type == 'item':\n",
    "            sim = ratings.T.dot(ratings) + epsilon\n",
    "        norms = np.array([np.sqrt(np.diagonal(sim))])\n",
    "        return (sim / norms / norms.T)\n",
    "\n",
    "    @jit\n",
    "    def _predict(self, ratings, similarity):\n",
    "    \n",
    "#     nzero = ratings[user].nonzero()[0]\n",
    "#     baseline = item_mean + user_mean[user] - all_mean\n",
    "#     choice = nzero[item_sim[item, nzero].argsort()[::-1][:k]]\n",
    "#     prediction = ratings[user, choice].dot(item_sim[item, choice])                / sum(item_sim[item, choice]) + baseline[item]\n",
    "#     if prediction > 5: prediction = 5\n",
    "#     if prediction < 1: prediction = 1\n",
    "#     return prediction \n",
    "\n",
    "\n",
    "\n",
    "#         if self.type == 'user':\n",
    "#             pred = np.zeros(ratings.shape)\n",
    "#             for i in range(ratings.shape[0]):\n",
    "#                 for j in range(ratings.shape[1]):\n",
    "#                     pred[i, j] = similarity[i, :].dot(ratings[:, j])\\\n",
    "#                                  /np.sum(np.abs(similarity[i, :]))\n",
    "#                 print(i)\n",
    "            \n",
    "#             return pred\n",
    "\n",
    "        \n",
    "        pred = np.zeros(ratings.shape)\n",
    "        k = 40\n",
    "        if self.type == 'user':\n",
    "            for i in range(ratings.shape[0]):\n",
    "                top_k_users = [np.argsort(similarity[:,i])[:-k-1:-1]]\n",
    "                for j in range(ratings.shape[1]):\n",
    "                    pred[i, j] = similarity[i, :][top_k_users].dot(ratings[:, j][top_k_users]) \n",
    "                    pred[i, j] /= np.sum(np.abs(similarity[i, :][top_k_users]))\n",
    "                print(i)    \n",
    "            return pred\n",
    "        \n",
    "        elif self.type == 'item':\n",
    "            pred = ratings.dot(similarity) / \\\n",
    "                np.array([np.abs(similarity).sum(axis=1)])\n",
    "            return np.array(pred)\n",
    "    @jit\n",
    "    def _rmse(self, pred, actual):\n",
    "        #actual = actual.values\n",
    "        pred = pred[actual.nonzero()].flatten()\n",
    "        actual = actual[actual.nonzero()].flatten()\n",
    "        return np.sqrt(mean_squared_error(pred, actual))\n",
    "    @jit\n",
    "    def evaluate(self):\n",
    "        sim = self._sim(self.rating_train_M)\n",
    "        print(sim.shape)\n",
    "        pred = self._predict(self.rating_train_M, sim)\n",
    "        print(pred.shape)\n",
    "        rmse_val = self._rmse(pred, self.rating_test_M)\n",
    "        print(rmse_val)\n",
    "        return rmse_val"
   ]
  },
  {
   "cell_type": "code",
   "execution_count": null,
   "metadata": {
    "scrolled": true
   },
   "outputs": [
    {
     "name": "stdout",
     "output_type": "stream",
     "text": [
      "(610, 610)\n"
     ]
    },
    {
     "name": "stderr",
     "output_type": "stream",
     "text": [
      "/Users/xuanxinfang/anaconda3/lib/python3.7/site-packages/ipykernel_launcher.py:6: FutureWarning: Using a non-tuple sequence for multidimensional indexing is deprecated; use `arr[tuple(seq)]` instead of `arr[seq]`. In the future this will be interpreted as an array index, `arr[np.array(seq)]`, which will result either in an error or a different result.\n",
      "  \n"
     ]
    },
    {
     "name": "stdout",
     "output_type": "stream",
     "text": [
      "0\n"
     ]
    }
   ],
   "source": [
    "UserBM = MemoryBCF(train, test, 'user')\n",
    "print(f'User based RMSE: {UserBM.result}')"
   ]
  },
  {
   "cell_type": "code",
   "execution_count": null,
   "metadata": {},
   "outputs": [],
   "source": []
  }
 ],
 "metadata": {
  "kernelspec": {
   "display_name": "Python 3",
   "language": "python",
   "name": "python3"
  },
  "language_info": {
   "codemirror_mode": {
    "name": "ipython",
    "version": 3
   },
   "file_extension": ".py",
   "mimetype": "text/x-python",
   "name": "python",
   "nbconvert_exporter": "python",
   "pygments_lexer": "ipython3",
   "version": "3.7.3"
  }
 },
 "nbformat": 4,
 "nbformat_minor": 2
}
