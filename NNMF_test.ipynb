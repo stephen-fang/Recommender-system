{
 "cells": [
  {
   "cell_type": "code",
   "execution_count": 97,
   "metadata": {},
   "outputs": [],
   "source": [
    "import os.path, logging\n",
    "import numpy as np\n",
    "import pandas as pd\n",
    "from keras.layers import Input, Embedding, concatenate, dot\n",
    "from keras.layers.core import Flatten, Dense, Dropout, Lambda\n",
    "from keras.layers.normalization import BatchNormalization\n",
    "from keras.models import Model\n",
    "from keras.optimizers import Adam\n",
    "from keras.regularizers import l2\n",
    "from keras import optimizers\n",
    "import q\n",
    "import warnings\n",
    "warnings.filterwarnings('ignore')"
   ]
  },
  {
   "cell_type": "code",
   "execution_count": 98,
   "metadata": {},
   "outputs": [
    {
     "data": {
      "text/html": [
       "<div>\n",
       "<style scoped>\n",
       "    .dataframe tbody tr th:only-of-type {\n",
       "        vertical-align: middle;\n",
       "    }\n",
       "\n",
       "    .dataframe tbody tr th {\n",
       "        vertical-align: top;\n",
       "    }\n",
       "\n",
       "    .dataframe thead th {\n",
       "        text-align: right;\n",
       "    }\n",
       "</style>\n",
       "<table border=\"1\" class=\"dataframe\">\n",
       "  <thead>\n",
       "    <tr style=\"text-align: right;\">\n",
       "      <th></th>\n",
       "      <th>userId</th>\n",
       "      <th>movieId</th>\n",
       "      <th>rating</th>\n",
       "      <th>timestamp</th>\n",
       "    </tr>\n",
       "  </thead>\n",
       "  <tbody>\n",
       "    <tr>\n",
       "      <th>0</th>\n",
       "      <td>1</td>\n",
       "      <td>1</td>\n",
       "      <td>4.0</td>\n",
       "      <td>964982703</td>\n",
       "    </tr>\n",
       "    <tr>\n",
       "      <th>1</th>\n",
       "      <td>1</td>\n",
       "      <td>3</td>\n",
       "      <td>4.0</td>\n",
       "      <td>964981247</td>\n",
       "    </tr>\n",
       "    <tr>\n",
       "      <th>2</th>\n",
       "      <td>1</td>\n",
       "      <td>6</td>\n",
       "      <td>4.0</td>\n",
       "      <td>964982224</td>\n",
       "    </tr>\n",
       "  </tbody>\n",
       "</table>\n",
       "</div>"
      ],
      "text/plain": [
       "   userId  movieId  rating  timestamp\n",
       "0       1        1     4.0  964982703\n",
       "1       1        3     4.0  964981247\n",
       "2       1        6     4.0  964982224"
      ]
     },
     "execution_count": 98,
     "metadata": {},
     "output_type": "execute_result"
    }
   ],
   "source": [
    "rating_path = 'dataset/rating.csv'\n",
    "rating = pd.read_csv(rating_path)\n",
    "rating.head(3)"
   ]
  },
  {
   "cell_type": "code",
   "execution_count": 99,
   "metadata": {},
   "outputs": [
    {
     "data": {
      "text/html": [
       "<div>\n",
       "<style scoped>\n",
       "    .dataframe tbody tr th:only-of-type {\n",
       "        vertical-align: middle;\n",
       "    }\n",
       "\n",
       "    .dataframe tbody tr th {\n",
       "        vertical-align: top;\n",
       "    }\n",
       "\n",
       "    .dataframe thead th {\n",
       "        text-align: right;\n",
       "    }\n",
       "</style>\n",
       "<table border=\"1\" class=\"dataframe\">\n",
       "  <thead>\n",
       "    <tr style=\"text-align: right;\">\n",
       "      <th></th>\n",
       "      <th>userId</th>\n",
       "      <th>movieId</th>\n",
       "      <th>rating</th>\n",
       "      <th>timestamp</th>\n",
       "    </tr>\n",
       "  </thead>\n",
       "  <tbody>\n",
       "    <tr>\n",
       "      <th>0</th>\n",
       "      <td>0</td>\n",
       "      <td>0</td>\n",
       "      <td>4.0</td>\n",
       "      <td>964982703</td>\n",
       "    </tr>\n",
       "    <tr>\n",
       "      <th>1</th>\n",
       "      <td>0</td>\n",
       "      <td>2</td>\n",
       "      <td>4.0</td>\n",
       "      <td>964981247</td>\n",
       "    </tr>\n",
       "    <tr>\n",
       "      <th>2</th>\n",
       "      <td>0</td>\n",
       "      <td>5</td>\n",
       "      <td>4.0</td>\n",
       "      <td>964982224</td>\n",
       "    </tr>\n",
       "  </tbody>\n",
       "</table>\n",
       "</div>"
      ],
      "text/plain": [
       "   userId  movieId  rating  timestamp\n",
       "0       0        0     4.0  964982703\n",
       "1       0        2     4.0  964981247\n",
       "2       0        5     4.0  964982224"
      ]
     },
     "execution_count": 99,
     "metadata": {},
     "output_type": "execute_result"
    }
   ],
   "source": [
    "rating.userId = rating.userId.astype('category').cat.codes.values\n",
    "rating.movieId = rating.movieId.astype('category').cat.codes.values\n",
    "rating.head(3)"
   ]
  },
  {
   "cell_type": "code",
   "execution_count": 100,
   "metadata": {},
   "outputs": [
    {
     "data": {
      "text/html": [
       "<div>\n",
       "<style scoped>\n",
       "    .dataframe tbody tr th:only-of-type {\n",
       "        vertical-align: middle;\n",
       "    }\n",
       "\n",
       "    .dataframe tbody tr th {\n",
       "        vertical-align: top;\n",
       "    }\n",
       "\n",
       "    .dataframe thead th {\n",
       "        text-align: right;\n",
       "    }\n",
       "</style>\n",
       "<table border=\"1\" class=\"dataframe\">\n",
       "  <thead>\n",
       "    <tr style=\"text-align: right;\">\n",
       "      <th></th>\n",
       "      <th>userId</th>\n",
       "      <th>movieId</th>\n",
       "      <th>rating</th>\n",
       "      <th>timestamp</th>\n",
       "    </tr>\n",
       "  </thead>\n",
       "  <tbody>\n",
       "    <tr>\n",
       "      <th>11491</th>\n",
       "      <td>67</td>\n",
       "      <td>7139</td>\n",
       "      <td>3.5</td>\n",
       "      <td>1332628976</td>\n",
       "    </tr>\n",
       "    <tr>\n",
       "      <th>2411</th>\n",
       "      <td>18</td>\n",
       "      <td>577</td>\n",
       "      <td>3.0</td>\n",
       "      <td>965706615</td>\n",
       "    </tr>\n",
       "    <tr>\n",
       "      <th>73722</th>\n",
       "      <td>473</td>\n",
       "      <td>1625</td>\n",
       "      <td>5.0</td>\n",
       "      <td>974668805</td>\n",
       "    </tr>\n",
       "  </tbody>\n",
       "</table>\n",
       "</div>"
      ],
      "text/plain": [
       "       userId  movieId  rating   timestamp\n",
       "11491      67     7139     3.5  1332628976\n",
       "2411       18      577     3.0   965706615\n",
       "73722     473     1625     5.0   974668805"
      ]
     },
     "execution_count": 100,
     "metadata": {},
     "output_type": "execute_result"
    }
   ],
   "source": [
    "from sklearn.model_selection import train_test_split\n",
    "train, test = train_test_split(rating, test_size=0.2)\n",
    "train.head(3)"
   ]
  },
  {
   "cell_type": "code",
   "execution_count": 101,
   "metadata": {},
   "outputs": [
    {
     "data": {
      "text/plain": [
       "12522    5.0\n",
       "70662    5.0\n",
       "86457    3.0\n",
       "Name: rating, dtype: float64"
      ]
     },
     "execution_count": 101,
     "metadata": {},
     "output_type": "execute_result"
    }
   ],
   "source": [
    "\n",
    "y_true = test.rating\n",
    "y_true.head(3)"
   ]
  },
  {
   "cell_type": "code",
   "execution_count": 110,
   "metadata": {},
   "outputs": [
    {
     "name": "stdout",
     "output_type": "stream",
     "text": [
      "610 9724\n"
     ]
    }
   ],
   "source": [
    "import keras\n",
    "from IPython.display import SVG\n",
    "from keras.optimizers import Adam\n",
    "from keras.utils.vis_utils import model_to_dot\n",
    "n_users, n_movies = len(rating.userId.unique()), len(rating.movieId.unique())\n",
    "n_latent_factors = 8\n",
    "print(n_users, n_movies)"
   ]
  },
  {
   "cell_type": "code",
   "execution_count": 125,
   "metadata": {},
   "outputs": [],
   "source": [
    "movie_input = keras.layers.Input(shape=[1,],name='Item')\n",
    "movie_embedding = keras.layers.Embedding(n_movies + 1, n_latent_factors, name='Movie-Embedding')(movie_input)\n",
    "movie_vec = keras.layers.Flatten(name='FlattenMovies')(movie_embedding)\n",
    "\n",
    "user_input = keras.layers.Input(shape=[1,],name='User')\n",
    "user_vec = keras.layers.Flatten(name='FlattenUsers')(keras.layers.Embedding(n_users + 1, n_latent_factors,name='User-Embedding')(user_input))\n",
    "\n",
    "#prod = keras.layers.merge([movie_vec, user_vec], mode='dot',name='DotProduct')\n",
    "prod = dot([movie_vec,user_vec], axes=-1)\n",
    "\n",
    "model = keras.Model([user_input, movie_input], prod)\n",
    "\n",
    "sgd = optimizers.SGD(lr= 0.001, decay=1e-6, momentum=0.9, nesterov=True)\n",
    "#model.compile('adam', 'mean_squared_error')\n",
    "model.compile(optimizer=sgd, loss='mean_squared_error')\n"
   ]
  },
  {
   "cell_type": "code",
   "execution_count": 126,
   "metadata": {},
   "outputs": [
    {
     "data": {
      "image/svg+xml": [
       "<svg height=\"296pt\" viewBox=\"0.00 0.00 681.82 296.00\" width=\"682pt\" xmlns=\"http://www.w3.org/2000/svg\" xmlns:xlink=\"http://www.w3.org/1999/xlink\">\n",
       "<g class=\"graph\" id=\"graph0\" transform=\"scale(1 1) rotate(0) translate(4 292)\">\n",
       "<title>G</title>\n",
       "<polygon fill=\"#ffffff\" points=\"-4,4 -4,-292 677.8154,-292 677.8154,4 -4,4\" stroke=\"transparent\"/>\n",
       "<!-- 112774367048 -->\n",
       "<g class=\"node\" id=\"node1\">\n",
       "<title>112774367048</title>\n",
       "<polygon fill=\"none\" points=\"48.2275,-243.5 48.2275,-287.5 284.7832,-287.5 284.7832,-243.5 48.2275,-243.5\" stroke=\"#000000\"/>\n",
       "<text fill=\"#000000\" font-family=\"Times,serif\" font-size=\"14.00\" text-anchor=\"middle\" x=\"103.8467\" y=\"-261.3\">Item: InputLayer</text>\n",
       "<polyline fill=\"none\" points=\"159.4658,-243.5 159.4658,-287.5 \" stroke=\"#000000\"/>\n",
       "<text fill=\"#000000\" font-family=\"Times,serif\" font-size=\"14.00\" text-anchor=\"middle\" x=\"187.3003\" y=\"-272.3\">input:</text>\n",
       "<polyline fill=\"none\" points=\"159.4658,-265.5 215.1348,-265.5 \" stroke=\"#000000\"/>\n",
       "<text fill=\"#000000\" font-family=\"Times,serif\" font-size=\"14.00\" text-anchor=\"middle\" x=\"187.3003\" y=\"-250.3\">output:</text>\n",
       "<polyline fill=\"none\" points=\"215.1348,-243.5 215.1348,-287.5 \" stroke=\"#000000\"/>\n",
       "<text fill=\"#000000\" font-family=\"Times,serif\" font-size=\"14.00\" text-anchor=\"middle\" x=\"249.959\" y=\"-272.3\">(None, 1)</text>\n",
       "<polyline fill=\"none\" points=\"215.1348,-265.5 284.7832,-265.5 \" stroke=\"#000000\"/>\n",
       "<text fill=\"#000000\" font-family=\"Times,serif\" font-size=\"14.00\" text-anchor=\"middle\" x=\"249.959\" y=\"-250.3\">(None, 1)</text>\n",
       "</g>\n",
       "<!-- 112774367552 -->\n",
       "<g class=\"node\" id=\"node3\">\n",
       "<title>112774367552</title>\n",
       "<polygon fill=\"none\" points=\"0,-162.5 0,-206.5 333.0107,-206.5 333.0107,-162.5 0,-162.5\" stroke=\"#000000\"/>\n",
       "<text fill=\"#000000\" font-family=\"Times,serif\" font-size=\"14.00\" text-anchor=\"middle\" x=\"96.8467\" y=\"-180.3\">Movie-Embedding: Embedding</text>\n",
       "<polyline fill=\"none\" points=\"193.6934,-162.5 193.6934,-206.5 \" stroke=\"#000000\"/>\n",
       "<text fill=\"#000000\" font-family=\"Times,serif\" font-size=\"14.00\" text-anchor=\"middle\" x=\"221.5278\" y=\"-191.3\">input:</text>\n",
       "<polyline fill=\"none\" points=\"193.6934,-184.5 249.3623,-184.5 \" stroke=\"#000000\"/>\n",
       "<text fill=\"#000000\" font-family=\"Times,serif\" font-size=\"14.00\" text-anchor=\"middle\" x=\"221.5278\" y=\"-169.3\">output:</text>\n",
       "<polyline fill=\"none\" points=\"249.3623,-162.5 249.3623,-206.5 \" stroke=\"#000000\"/>\n",
       "<text fill=\"#000000\" font-family=\"Times,serif\" font-size=\"14.00\" text-anchor=\"middle\" x=\"291.1865\" y=\"-191.3\">(None, 1)</text>\n",
       "<polyline fill=\"none\" points=\"249.3623,-184.5 333.0107,-184.5 \" stroke=\"#000000\"/>\n",
       "<text fill=\"#000000\" font-family=\"Times,serif\" font-size=\"14.00\" text-anchor=\"middle\" x=\"291.1865\" y=\"-169.3\">(None, 1, 8)</text>\n",
       "</g>\n",
       "<!-- 112774367048&#45;&gt;112774367552 -->\n",
       "<g class=\"edge\" id=\"edge1\">\n",
       "<title>112774367048-&gt;112774367552</title>\n",
       "<path d=\"M166.5054,-243.3664C166.5054,-235.1516 166.5054,-225.6579 166.5054,-216.7252\" fill=\"none\" stroke=\"#000000\"/>\n",
       "<polygon fill=\"#000000\" points=\"170.0055,-216.6068 166.5054,-206.6068 163.0055,-216.6069 170.0055,-216.6068\" stroke=\"#000000\"/>\n",
       "</g>\n",
       "<!-- 112774368560 -->\n",
       "<g class=\"node\" id=\"node2\">\n",
       "<title>112774368560</title>\n",
       "<polygon fill=\"none\" points=\"393.8379,-243.5 393.8379,-287.5 631.1729,-287.5 631.1729,-243.5 393.8379,-243.5\" stroke=\"#000000\"/>\n",
       "<text fill=\"#000000\" font-family=\"Times,serif\" font-size=\"14.00\" text-anchor=\"middle\" x=\"449.8467\" y=\"-261.3\">User: InputLayer</text>\n",
       "<polyline fill=\"none\" points=\"505.8555,-243.5 505.8555,-287.5 \" stroke=\"#000000\"/>\n",
       "<text fill=\"#000000\" font-family=\"Times,serif\" font-size=\"14.00\" text-anchor=\"middle\" x=\"533.6899\" y=\"-272.3\">input:</text>\n",
       "<polyline fill=\"none\" points=\"505.8555,-265.5 561.5244,-265.5 \" stroke=\"#000000\"/>\n",
       "<text fill=\"#000000\" font-family=\"Times,serif\" font-size=\"14.00\" text-anchor=\"middle\" x=\"533.6899\" y=\"-250.3\">output:</text>\n",
       "<polyline fill=\"none\" points=\"561.5244,-243.5 561.5244,-287.5 \" stroke=\"#000000\"/>\n",
       "<text fill=\"#000000\" font-family=\"Times,serif\" font-size=\"14.00\" text-anchor=\"middle\" x=\"596.3486\" y=\"-272.3\">(None, 1)</text>\n",
       "<polyline fill=\"none\" points=\"561.5244,-265.5 631.1729,-265.5 \" stroke=\"#000000\"/>\n",
       "<text fill=\"#000000\" font-family=\"Times,serif\" font-size=\"14.00\" text-anchor=\"middle\" x=\"596.3486\" y=\"-250.3\">(None, 1)</text>\n",
       "</g>\n",
       "<!-- 112737362552 -->\n",
       "<g class=\"node\" id=\"node4\">\n",
       "<title>112737362552</title>\n",
       "<polygon fill=\"none\" points=\"351.1953,-162.5 351.1953,-206.5 673.8154,-206.5 673.8154,-162.5 351.1953,-162.5\" stroke=\"#000000\"/>\n",
       "<text fill=\"#000000\" font-family=\"Times,serif\" font-size=\"14.00\" text-anchor=\"middle\" x=\"442.8467\" y=\"-180.3\">User-Embedding: Embedding</text>\n",
       "<polyline fill=\"none\" points=\"534.498,-162.5 534.498,-206.5 \" stroke=\"#000000\"/>\n",
       "<text fill=\"#000000\" font-family=\"Times,serif\" font-size=\"14.00\" text-anchor=\"middle\" x=\"562.3325\" y=\"-191.3\">input:</text>\n",
       "<polyline fill=\"none\" points=\"534.498,-184.5 590.167,-184.5 \" stroke=\"#000000\"/>\n",
       "<text fill=\"#000000\" font-family=\"Times,serif\" font-size=\"14.00\" text-anchor=\"middle\" x=\"562.3325\" y=\"-169.3\">output:</text>\n",
       "<polyline fill=\"none\" points=\"590.167,-162.5 590.167,-206.5 \" stroke=\"#000000\"/>\n",
       "<text fill=\"#000000\" font-family=\"Times,serif\" font-size=\"14.00\" text-anchor=\"middle\" x=\"631.9912\" y=\"-191.3\">(None, 1)</text>\n",
       "<polyline fill=\"none\" points=\"590.167,-184.5 673.8154,-184.5 \" stroke=\"#000000\"/>\n",
       "<text fill=\"#000000\" font-family=\"Times,serif\" font-size=\"14.00\" text-anchor=\"middle\" x=\"631.9912\" y=\"-169.3\">(None, 1, 8)</text>\n",
       "</g>\n",
       "<!-- 112774368560&#45;&gt;112737362552 -->\n",
       "<g class=\"edge\" id=\"edge2\">\n",
       "<title>112774368560-&gt;112737362552</title>\n",
       "<path d=\"M512.5054,-243.3664C512.5054,-235.1516 512.5054,-225.6579 512.5054,-216.7252\" fill=\"none\" stroke=\"#000000\"/>\n",
       "<polygon fill=\"#000000\" points=\"516.0055,-216.6068 512.5054,-206.6068 509.0055,-216.6069 516.0055,-216.6068\" stroke=\"#000000\"/>\n",
       "</g>\n",
       "<!-- 112774366152 -->\n",
       "<g class=\"node\" id=\"node5\">\n",
       "<title>112774366152</title>\n",
       "<polygon fill=\"none\" points=\"50.269,-81.5 50.269,-125.5 332.7417,-125.5 332.7417,-81.5 50.269,-81.5\" stroke=\"#000000\"/>\n",
       "<text fill=\"#000000\" font-family=\"Times,serif\" font-size=\"14.00\" text-anchor=\"middle\" x=\"121.8467\" y=\"-99.3\">FlattenMovies: Flatten</text>\n",
       "<polyline fill=\"none\" points=\"193.4243,-81.5 193.4243,-125.5 \" stroke=\"#000000\"/>\n",
       "<text fill=\"#000000\" font-family=\"Times,serif\" font-size=\"14.00\" text-anchor=\"middle\" x=\"221.2588\" y=\"-110.3\">input:</text>\n",
       "<polyline fill=\"none\" points=\"193.4243,-103.5 249.0933,-103.5 \" stroke=\"#000000\"/>\n",
       "<text fill=\"#000000\" font-family=\"Times,serif\" font-size=\"14.00\" text-anchor=\"middle\" x=\"221.2588\" y=\"-88.3\">output:</text>\n",
       "<polyline fill=\"none\" points=\"249.0933,-81.5 249.0933,-125.5 \" stroke=\"#000000\"/>\n",
       "<text fill=\"#000000\" font-family=\"Times,serif\" font-size=\"14.00\" text-anchor=\"middle\" x=\"290.9175\" y=\"-110.3\">(None, 1, 8)</text>\n",
       "<polyline fill=\"none\" points=\"249.0933,-103.5 332.7417,-103.5 \" stroke=\"#000000\"/>\n",
       "<text fill=\"#000000\" font-family=\"Times,serif\" font-size=\"14.00\" text-anchor=\"middle\" x=\"290.9175\" y=\"-88.3\">(None, 8)</text>\n",
       "</g>\n",
       "<!-- 112774367552&#45;&gt;112774366152 -->\n",
       "<g class=\"edge\" id=\"edge3\">\n",
       "<title>112774367552-&gt;112774366152</title>\n",
       "<path d=\"M173.3367,-162.3664C175.8997,-154.0624 178.8661,-144.4514 181.6492,-135.4341\" fill=\"none\" stroke=\"#000000\"/>\n",
       "<polygon fill=\"#000000\" points=\"185.0774,-136.1943 184.6823,-125.6068 178.3887,-134.1299 185.0774,-136.1943\" stroke=\"#000000\"/>\n",
       "</g>\n",
       "<!-- 112758853080 -->\n",
       "<g class=\"node\" id=\"node6\">\n",
       "<title>112758853080</title>\n",
       "<polygon fill=\"none\" points=\"363.3276,-81.5 363.3276,-125.5 635.6831,-125.5 635.6831,-81.5 363.3276,-81.5\" stroke=\"#000000\"/>\n",
       "<text fill=\"#000000\" font-family=\"Times,serif\" font-size=\"14.00\" text-anchor=\"middle\" x=\"429.8467\" y=\"-99.3\">FlattenUsers: Flatten</text>\n",
       "<polyline fill=\"none\" points=\"496.3657,-81.5 496.3657,-125.5 \" stroke=\"#000000\"/>\n",
       "<text fill=\"#000000\" font-family=\"Times,serif\" font-size=\"14.00\" text-anchor=\"middle\" x=\"524.2002\" y=\"-110.3\">input:</text>\n",
       "<polyline fill=\"none\" points=\"496.3657,-103.5 552.0347,-103.5 \" stroke=\"#000000\"/>\n",
       "<text fill=\"#000000\" font-family=\"Times,serif\" font-size=\"14.00\" text-anchor=\"middle\" x=\"524.2002\" y=\"-88.3\">output:</text>\n",
       "<polyline fill=\"none\" points=\"552.0347,-81.5 552.0347,-125.5 \" stroke=\"#000000\"/>\n",
       "<text fill=\"#000000\" font-family=\"Times,serif\" font-size=\"14.00\" text-anchor=\"middle\" x=\"593.8589\" y=\"-110.3\">(None, 1, 8)</text>\n",
       "<polyline fill=\"none\" points=\"552.0347,-103.5 635.6831,-103.5 \" stroke=\"#000000\"/>\n",
       "<text fill=\"#000000\" font-family=\"Times,serif\" font-size=\"14.00\" text-anchor=\"middle\" x=\"593.8589\" y=\"-88.3\">(None, 8)</text>\n",
       "</g>\n",
       "<!-- 112737362552&#45;&gt;112758853080 -->\n",
       "<g class=\"edge\" id=\"edge4\">\n",
       "<title>112737362552-&gt;112758853080</title>\n",
       "<path d=\"M508.9531,-162.3664C507.6346,-154.1516 506.111,-144.6579 504.6773,-135.7252\" fill=\"none\" stroke=\"#000000\"/>\n",
       "<polygon fill=\"#000000\" points=\"508.0939,-134.9258 503.0534,-125.6068 501.1823,-136.0351 508.0939,-134.9258\" stroke=\"#000000\"/>\n",
       "</g>\n",
       "<!-- 112761912568 -->\n",
       "<g class=\"node\" id=\"node7\">\n",
       "<title>112761912568</title>\n",
       "<polygon fill=\"none\" points=\"199.2207,-.5 199.2207,-44.5 477.79,-44.5 477.79,-.5 199.2207,-.5\" stroke=\"#000000\"/>\n",
       "<text fill=\"#000000\" font-family=\"Times,serif\" font-size=\"14.00\" text-anchor=\"middle\" x=\"240.8604\" y=\"-18.3\">dot_17: Dot</text>\n",
       "<polyline fill=\"none\" points=\"282.5,-.5 282.5,-44.5 \" stroke=\"#000000\"/>\n",
       "<text fill=\"#000000\" font-family=\"Times,serif\" font-size=\"14.00\" text-anchor=\"middle\" x=\"310.3345\" y=\"-29.3\">input:</text>\n",
       "<polyline fill=\"none\" points=\"282.5,-22.5 338.1689,-22.5 \" stroke=\"#000000\"/>\n",
       "<text fill=\"#000000\" font-family=\"Times,serif\" font-size=\"14.00\" text-anchor=\"middle\" x=\"310.3345\" y=\"-7.3\">output:</text>\n",
       "<polyline fill=\"none\" points=\"338.1689,-.5 338.1689,-44.5 \" stroke=\"#000000\"/>\n",
       "<text fill=\"#000000\" font-family=\"Times,serif\" font-size=\"14.00\" text-anchor=\"middle\" x=\"407.9795\" y=\"-29.3\">[(None, 8), (None, 8)]</text>\n",
       "<polyline fill=\"none\" points=\"338.1689,-22.5 477.79,-22.5 \" stroke=\"#000000\"/>\n",
       "<text fill=\"#000000\" font-family=\"Times,serif\" font-size=\"14.00\" text-anchor=\"middle\" x=\"407.4932\" y=\"-7.3\">(None, 1)</text>\n",
       "</g>\n",
       "<!-- 112774366152&#45;&gt;112761912568 -->\n",
       "<g class=\"edge\" id=\"edge5\">\n",
       "<title>112774366152-&gt;112761912568</title>\n",
       "<path d=\"M231.6738,-81.3664C249.4988,-71.5444 270.6422,-59.894 289.3961,-49.5602\" fill=\"none\" stroke=\"#000000\"/>\n",
       "<polygon fill=\"#000000\" points=\"291.3163,-52.4984 298.3855,-44.6068 287.938,-46.3675 291.3163,-52.4984\" stroke=\"#000000\"/>\n",
       "</g>\n",
       "<!-- 112758853080&#45;&gt;112761912568 -->\n",
       "<g class=\"edge\" id=\"edge6\">\n",
       "<title>112758853080-&gt;112761912568</title>\n",
       "<path d=\"M455.5114,-81.3664C435.7225,-71.4105 412.1995,-59.5759 391.453,-49.1382\" fill=\"none\" stroke=\"#000000\"/>\n",
       "<polygon fill=\"#000000\" points=\"392.9523,-45.9746 382.4461,-44.6068 389.8063,-52.2278 392.9523,-45.9746\" stroke=\"#000000\"/>\n",
       "</g>\n",
       "</g>\n",
       "</svg>"
      ],
      "text/plain": [
       "<IPython.core.display.SVG object>"
      ]
     },
     "execution_count": 126,
     "metadata": {},
     "output_type": "execute_result"
    }
   ],
   "source": [
    "SVG(model_to_dot(model,  show_shapes=True, show_layer_names=True, rankdir='HB').create(prog='dot', format='svg'))"
   ]
  },
  {
   "cell_type": "code",
   "execution_count": 127,
   "metadata": {},
   "outputs": [
    {
     "name": "stdout",
     "output_type": "stream",
     "text": [
      "__________________________________________________________________________________________________\n",
      "Layer (type)                    Output Shape         Param #     Connected to                     \n",
      "==================================================================================================\n",
      "Item (InputLayer)               (None, 1)            0                                            \n",
      "__________________________________________________________________________________________________\n",
      "User (InputLayer)               (None, 1)            0                                            \n",
      "__________________________________________________________________________________________________\n",
      "Movie-Embedding (Embedding)     (None, 1, 8)         77800       Item[0][0]                       \n",
      "__________________________________________________________________________________________________\n",
      "User-Embedding (Embedding)      (None, 1, 8)         4888        User[0][0]                       \n",
      "__________________________________________________________________________________________________\n",
      "FlattenMovies (Flatten)         (None, 8)            0           Movie-Embedding[0][0]            \n",
      "__________________________________________________________________________________________________\n",
      "FlattenUsers (Flatten)          (None, 8)            0           User-Embedding[0][0]             \n",
      "__________________________________________________________________________________________________\n",
      "dot_17 (Dot)                    (None, 1)            0           FlattenMovies[0][0]              \n",
      "                                                                 FlattenUsers[0][0]               \n",
      "==================================================================================================\n",
      "Total params: 82,688\n",
      "Trainable params: 82,688\n",
      "Non-trainable params: 0\n",
      "__________________________________________________________________________________________________\n"
     ]
    }
   ],
   "source": [
    "model.summary()"
   ]
  },
  {
   "cell_type": "code",
   "execution_count": 128,
   "metadata": {},
   "outputs": [],
   "source": [
    "history = model.fit([train.userId, train.movieId], train.rating, epochs=100, verbose=0)\n"
   ]
  },
  {
   "cell_type": "code",
   "execution_count": 129,
   "metadata": {},
   "outputs": [
    {
     "data": {
      "text/plain": [
       "Text(0, 0.5, 'Train Error')"
      ]
     },
     "execution_count": 129,
     "metadata": {},
     "output_type": "execute_result"
    },
    {
     "data": {
      "image/png": "[encoded data removed]",
      "text/plain": [
       "<Figure size 432x288 with 1 Axes>"
      ]
     },
     "metadata": {
      "needs_background": "light"
     },
     "output_type": "display_data"
    }
   ],
   "source": [
    "import matplotlib.pyplot as plt\n",
    "pd.Series(history.history['loss']).plot(logy=True)\n",
    "plt.xlabel(\"Epoch\")\n",
    "plt.ylabel(\"Train Error\")"
   ]
  },
  {
   "cell_type": "code",
   "execution_count": 130,
   "metadata": {},
   "outputs": [],
   "source": [
    "y_hat = np.round(model.predict([test.userId, test.movieId]),0)\n",
    "y_true = test.rating"
   ]
  },
  {
   "cell_type": "code",
   "execution_count": 131,
   "metadata": {},
   "outputs": [
    {
     "name": "stdout",
     "output_type": "stream",
     "text": [
      "1.2547262889943505\n"
     ]
    }
   ],
   "source": [
    "from sklearn.metrics import mean_squared_error\n",
    "err = mean_squared_error(y_true, y_hat)\n",
    "print(np.sqrt(err))"
   ]
  },
  {
   "cell_type": "code",
   "execution_count": null,
   "metadata": {},
   "outputs": [],
   "source": []
  }
 ],
 "metadata": {
  "kernelspec": {
   "display_name": "Python 3",
   "language": "python",
   "name": "python3"
  },
  "language_info": {
   "codemirror_mode": {
    "name": "ipython",
    "version": 3
   },
   "file_extension": ".py",
   "mimetype": "text/x-python",
   "name": "python",
   "nbconvert_exporter": "python",
   "pygments_lexer": "ipython3",
   "version": "3.7.3"
  }
 },
 "nbformat": 4,
 "nbformat_minor": 2
}
