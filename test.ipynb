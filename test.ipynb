{
 "cells": [
  {
   "cell_type": "code",
   "execution_count": 4,
   "metadata": {},
   "outputs": [
    {
     "data": {
      "text/html": [
       "        <script type=\"text/javascript\">\n",
       "        window.PlotlyConfig = {MathJaxConfig: 'local'};\n",
       "        if (window.MathJax) {MathJax.Hub.Config({SVG: {font: \"STIX-Web\"}});}\n",
       "        if (typeof require !== 'undefined') {\n",
       "        require.undef(\"plotly\");\n",
       "        requirejs.config({\n",
       "            paths: {\n",
       "                'plotly': ['https://cdn.plot.ly/plotly-latest.min']\n",
       "            }\n",
       "        });\n",
       "        require(['plotly'], function(Plotly) {\n",
       "            window._Plotly = Plotly;\n",
       "        });\n",
       "        }\n",
       "        </script>\n",
       "        "
      ]
     },
     "metadata": {},
     "output_type": "display_data"
    }
   ],
   "source": [
    "\n",
    "import cufflinks as cf\n",
    "import pandas as pd\n",
    "import numpy as np\n",
    "cf.set_config_file(offline=True)"
   ]
  },
  {
   "cell_type": "code",
   "execution_count": 5,
   "metadata": {},
   "outputs": [],
   "source": [
    "rating_path = '/Users/xuanxinfang/Dropbox/UNSW/T2/COMP9417/assignment/dataset/rating.csv'\n",
    "movie_path = '/Users/xuanxinfang/Dropbox/UNSW/T2/COMP9417/assignment/dataset/movie.csv'\n",
    "tag_path = '/Users/xuanxinfang/Dropbox/UNSW/T2/COMP9417/assignment/dataset/tag.csv'\n",
    "link_path = '/Users/xuanxinfang/Dropbox/UNSW/T2/COMP9417/assignment/dataset/link.csv'\n",
    "\n",
    "ratings = pd.read_csv(rating_path)\n",
    "# print(rating.head(10))\n",
    "movies = pd.read_csv(movie_path)\n",
    "# print(movies.head(10))"
   ]
  },
  {
   "cell_type": "code",
   "execution_count": null,
   "metadata": {},
   "outputs": [],
   "source": []
  },
  {
   "cell_type": "code",
   "execution_count": null,
   "metadata": {},
   "outputs": [],
   "source": []
  },
  {
   "cell_type": "code",
   "execution_count": 6,
   "metadata": {},
   "outputs": [
    {
     "name": "stdout",
     "output_type": "stream",
     "text": [
      "   userId  rating  movieId                       title\n",
      "0       1     4.0        1            Toy Story (1995)\n",
      "1       1     4.0     1777  Wedding Singer, The (1998)\n",
      "2       1     5.0     1732    Big Lebowski, The (1998)\n",
      "3       1     3.0     1676    Starship Troopers (1997)\n",
      "4       1     5.0       50  Usual Suspects, The (1995)\n"
     ]
    }
   ],
   "source": [
    "data = pd.merge(movies,ratings,on = 'movieId')\n",
    "# print(data.head(5))\n",
    "data[['userId','rating','movieId','title']].sort_values('userId').to_csv('data.csv',index=False)\n",
    "# 将合并后的数据集输出保存到桌面 以备后续分析\n",
    "file = pd.read_csv('data.csv')\n",
    "print(file.head(5))"
   ]
  },
  {
   "cell_type": "code",
   "execution_count": 9,
   "metadata": {},
   "outputs": [],
   "source": [
    "file.iplot(kind='histogram', x=\"userid\", y=\"rating\")"
   ]
  },
  {
   "cell_type": "code",
   "execution_count": 1,
   "metadata": {},
   "outputs": [
    {
     "ename": "NameError",
     "evalue": "name 'cf' is not defined",
     "output_type": "error",
     "traceback": [
      "\u001b[0;31m---------------------------------------------------------------------------\u001b[0m",
      "\u001b[0;31mNameError\u001b[0m                                 Traceback (most recent call last)",
      "\u001b[0;32m<ipython-input-1-2c0a0bb1fc73>\u001b[0m in \u001b[0;36m<module>\u001b[0;34m\u001b[0m\n\u001b[0;32m----> 1\u001b[0;31m \u001b[0mcf\u001b[0m\u001b[0;34m.\u001b[0m\u001b[0mdatagen\u001b[0m\u001b[0;34m.\u001b[0m\u001b[0mlines\u001b[0m\u001b[0;34m(\u001b[0m\u001b[0;36m1\u001b[0m\u001b[0;34m,\u001b[0m\u001b[0;36m500\u001b[0m\u001b[0;34m)\u001b[0m\u001b[0;34m.\u001b[0m\u001b[0mta_plot\u001b[0m\u001b[0;34m(\u001b[0m\u001b[0mstudy\u001b[0m\u001b[0;34m=\u001b[0m\u001b[0;34m'sma'\u001b[0m\u001b[0;34m,\u001b[0m\u001b[0mperiods\u001b[0m\u001b[0;34m=\u001b[0m\u001b[0;34m[\u001b[0m\u001b[0;36m13\u001b[0m\u001b[0;34m,\u001b[0m\u001b[0;36m21\u001b[0m\u001b[0;34m,\u001b[0m\u001b[0;36m55\u001b[0m\u001b[0;34m]\u001b[0m\u001b[0;34m)\u001b[0m\u001b[0;34m\u001b[0m\u001b[0;34m\u001b[0m\u001b[0m\n\u001b[0m",
      "\u001b[0;31mNameError\u001b[0m: name 'cf' is not defined"
     ]
    }
   ],
   "source": [
    "cf.datagen.lines(1,500).ta_plot(study='sma',periods=[13,21,55])"
   ]
  },
  {
   "cell_type": "code",
   "execution_count": 2,
   "metadata": {},
   "outputs": [
    {
     "name": "stderr",
     "output_type": "stream",
     "text": [
      "Using TensorFlow backend.\n"
     ]
    }
   ],
   "source": [
    "import pandas as pd\n",
    "import keras\n",
    "import numpy as np\n",
    "import pandas as pd\n",
    "from keras.layers import dot\n",
    "from keras.models import Model\n",
    "from keras.optimizers import Adam\n",
    "from sklearn.model_selection import train_test_split\n",
    "from sklearn.metrics import mean_squared_error\n",
    "from keras import optimizers\n",
    "import logging, os\n",
    "\n",
    "logging.disable(logging.WARNING)\n",
    "os.environ[\"TF_CPP_MIN_LOG_LEVEL\"] = \"3\"\n",
    "\n",
    "\n",
    "class MFModel:\n",
    "    def __init__(self, rating_path=\"dataset/rating.csv\"):\n",
    "        self.rating_path = rating_path\n",
    "        self.rating = self.read_data()\n",
    "\n",
    "    def read_data(self):\n",
    "        rating = pd.read_csv(self.rating_path)\n",
    "        # start from 0\n",
    "        rating.userId = rating.userId.astype('category').cat.codes.values\n",
    "        rating.movieId = rating.movieId.astype('category').cat.codes.values\n",
    "        return rating\n",
    "\n",
    "    def build_model(self, latent=8, learning_rate=0.001):\n",
    "\n",
    "        num_users, num_movies = len(\n",
    "            self.rating.userId.unique()), len(self.rating.movieId.unique())\n",
    "\n",
    "        # embedding user and flatten\n",
    "        user_input = keras.layers.Input(shape=[1, ], name='user')\n",
    "        # add bias\n",
    "        user_embedding = keras.layers.Embedding(\n",
    "            num_users + 1, latent, name='user_embedding')(user_input)\n",
    "        # flatten user embedding\n",
    "\n",
    "        user_vec = keras.layers.Flatten()(user_embedding)\n",
    "\n",
    "        # movie part\n",
    "        movie_input = keras.layers.Input(shape=[1, ], name='movie')\n",
    "        movie_embedding = keras.layers.Embedding(\n",
    "            num_movies + 1, latent, name='movie_embedding')(movie_input)\n",
    "        movie_vec = keras.layers.Flatten()(movie_embedding)\n",
    "\n",
    "        product = dot([movie_vec, user_vec], axes=-1)\n",
    "\n",
    "        self.model = keras.Model([user_input, movie_input], product)\n",
    "\n",
    "        opt = optimizers.SGD(lr=learning_rate, decay=1e-6,\n",
    "                             momentum=0.9, nesterov=True)\n",
    "        self.model.compile(optimizer=opt, loss='mean_squared_error')\n",
    "\n",
    "    def train(self, ts=0.2):\n",
    "        self.build_model()\n",
    "        self.train, self.test = train_test_split(self.rating, test_size=ts)\n",
    "        self.history = self.model.fit(\n",
    "            [self.train.userId, self.train.movieId], self.train.rating, epochs=100, verbose=0)\n",
    "\n",
    "    def eval(self):\n",
    "        self.train()\n",
    "        # y_hat_2 = np.round(model.predict([test.userId, test.movieId]),0)\n",
    "        y_test_true = self.test.rating\n",
    "        y_test_hat = np.round(self.model.predict(\n",
    "            [self.test.userId, self.test.movieId]), 0)\n",
    "        err = np.sqrt(mean_squared_error(y_test_true, y_test_hat))\n",
    "        print(f'MF model test err = {err}')\n",
    "    \n",
    "    def plot(self):\n",
    "        pd.Series(self.history.history['loss']).plot(logy=True)\n",
    "        plt.xlabel(\"Epoch\")\n",
    "        plt.ylabel(\"Train Error\")"
   ]
  },
  {
   "cell_type": "code",
   "execution_count": 3,
   "metadata": {},
   "outputs": [
    {
     "name": "stdout",
     "output_type": "stream",
     "text": [
      "MF model test err = 1.2619814513919287\n"
     ]
    }
   ],
   "source": [
    "M = MFModel()\n",
    "M.eval()"
   ]
  },
  {
   "cell_type": "code",
   "execution_count": 4,
   "metadata": {},
   "outputs": [
    {
     "ename": "NameError",
     "evalue": "name 'plt' is not defined",
     "output_type": "error",
     "traceback": [
      "\u001b[0;31m---------------------------------------------------------------------------\u001b[0m",
      "\u001b[0;31mNameError\u001b[0m                                 Traceback (most recent call last)",
      "\u001b[0;32m<ipython-input-4-49ea957fd9e3>\u001b[0m in \u001b[0;36m<module>\u001b[0;34m\u001b[0m\n\u001b[0;32m----> 1\u001b[0;31m \u001b[0mM\u001b[0m\u001b[0;34m.\u001b[0m\u001b[0mplot\u001b[0m\u001b[0;34m(\u001b[0m\u001b[0;34m)\u001b[0m\u001b[0;34m\u001b[0m\u001b[0;34m\u001b[0m\u001b[0m\n\u001b[0m",
      "\u001b[0;32m<ipython-input-2-6a2ada268782>\u001b[0m in \u001b[0;36mplot\u001b[0;34m(self)\u001b[0m\n\u001b[1;32m     72\u001b[0m     \u001b[0;32mdef\u001b[0m \u001b[0mplot\u001b[0m\u001b[0;34m(\u001b[0m\u001b[0mself\u001b[0m\u001b[0;34m)\u001b[0m\u001b[0;34m:\u001b[0m\u001b[0;34m\u001b[0m\u001b[0;34m\u001b[0m\u001b[0m\n\u001b[1;32m     73\u001b[0m         \u001b[0mpd\u001b[0m\u001b[0;34m.\u001b[0m\u001b[0mSeries\u001b[0m\u001b[0;34m(\u001b[0m\u001b[0mself\u001b[0m\u001b[0;34m.\u001b[0m\u001b[0mhistory\u001b[0m\u001b[0;34m.\u001b[0m\u001b[0mhistory\u001b[0m\u001b[0;34m[\u001b[0m\u001b[0;34m'loss'\u001b[0m\u001b[0;34m]\u001b[0m\u001b[0;34m)\u001b[0m\u001b[0;34m.\u001b[0m\u001b[0mplot\u001b[0m\u001b[0;34m(\u001b[0m\u001b[0mlogy\u001b[0m\u001b[0;34m=\u001b[0m\u001b[0;32mTrue\u001b[0m\u001b[0;34m)\u001b[0m\u001b[0;34m\u001b[0m\u001b[0;34m\u001b[0m\u001b[0m\n\u001b[0;32m---> 74\u001b[0;31m         \u001b[0mplt\u001b[0m\u001b[0;34m.\u001b[0m\u001b[0mxlabel\u001b[0m\u001b[0;34m(\u001b[0m\u001b[0;34m\"Epoch\"\u001b[0m\u001b[0;34m)\u001b[0m\u001b[0;34m\u001b[0m\u001b[0;34m\u001b[0m\u001b[0m\n\u001b[0m\u001b[1;32m     75\u001b[0m         \u001b[0mplt\u001b[0m\u001b[0;34m.\u001b[0m\u001b[0mylabel\u001b[0m\u001b[0;34m(\u001b[0m\u001b[0;34m\"Train Error\"\u001b[0m\u001b[0;34m)\u001b[0m\u001b[0;34m\u001b[0m\u001b[0;34m\u001b[0m\u001b[0m\n",
      "\u001b[0;31mNameError\u001b[0m: name 'plt' is not defined"
     ]
    }
   ],
   "source": [
    "M.plot()"
   ]
  },
  {
   "cell_type": "code",
   "execution_count": null,
   "metadata": {},
   "outputs": [],
   "source": []
  }
 ],
 "metadata": {
  "kernelspec": {
   "display_name": "Python 3",
   "language": "python",
   "name": "python3"
  },
  "language_info": {
   "codemirror_mode": {
    "name": "ipython",
    "version": 3
   },
   "file_extension": ".py",
   "mimetype": "text/x-python",
   "name": "python",
   "nbconvert_exporter": "python",
   "pygments_lexer": "ipython3",
   "version": "3.7.3"
  }
 },
 "nbformat": 4,
 "nbformat_minor": 2
}
