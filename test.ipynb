{
 "cells": [
  {
   "cell_type": "code",
   "execution_count": 2,
   "metadata": {},
   "outputs": [],
   "source": [
    "import pandas as pd  "
   ]
  },
  {
   "cell_type": "code",
   "execution_count": 4,
   "metadata": {},
   "outputs": [
    {
     "name": "stdout",
     "output_type": "stream",
     "text": [
      "    userId  movieId  rating  timestamp\n",
      "0        1        1     4.0  964982703\n",
      "1        1        3     4.0  964981247\n",
      "2        1        6     4.0  964982224\n",
      "3        1       47     5.0  964983815\n",
      "4        1       50     5.0  964982931\n",
      "5        1       70     3.0  964982400\n",
      "6        1      101     5.0  964980868\n",
      "7        1      110     4.0  964982176\n",
      "8        1      151     5.0  964984041\n",
      "9        1      157     5.0  964984100\n",
      "10       1      163     5.0  964983650\n",
      "11       1      216     5.0  964981208\n",
      "12       1      223     3.0  964980985\n",
      "13       1      231     5.0  964981179\n",
      "14       1      235     4.0  964980908\n",
      "15       1      260     5.0  964981680\n",
      "16       1      296     3.0  964982967\n",
      "17       1      316     3.0  964982310\n",
      "18       1      333     5.0  964981179\n",
      "19       1      349     4.0  964982563\n"
     ]
    }
   ],
   "source": [
    "ratings = pd.read_csv('dataset/rating.csv')    \n",
    "print (ratings.head(20)) "
   ]
  },
  {
   "cell_type": "code",
   "execution_count": 5,
   "metadata": {},
   "outputs": [
    {
     "name": "stdout",
     "output_type": "stream",
     "text": [
      "   movieId                               title  \\\n",
      "0        1                    Toy Story (1995)   \n",
      "1        2                      Jumanji (1995)   \n",
      "2        3             Grumpier Old Men (1995)   \n",
      "3        4            Waiting to Exhale (1995)   \n",
      "4        5  Father of the Bride Part II (1995)   \n",
      "5        6                         Heat (1995)   \n",
      "6        7                      Sabrina (1995)   \n",
      "7        8                 Tom and Huck (1995)   \n",
      "8        9                 Sudden Death (1995)   \n",
      "9       10                    GoldenEye (1995)   \n",
      "\n",
      "                                        genres  \n",
      "0  Adventure|Animation|Children|Comedy|Fantasy  \n",
      "1                   Adventure|Children|Fantasy  \n",
      "2                               Comedy|Romance  \n",
      "3                         Comedy|Drama|Romance  \n",
      "4                                       Comedy  \n",
      "5                        Action|Crime|Thriller  \n",
      "6                               Comedy|Romance  \n",
      "7                           Adventure|Children  \n",
      "8                                       Action  \n",
      "9                    Action|Adventure|Thriller  \n"
     ]
    }
   ],
   "source": [
    "movies = pd.read_csv(\"dataset/movie.csv\")\n",
    "print(movies.head(10))"
   ]
  },
  {
   "cell_type": "code",
   "execution_count": 8,
   "metadata": {},
   "outputs": [
    {
     "name": "stdout",
     "output_type": "stream",
     "text": [
      "   userId  rating  movieId                       title\n",
      "0       1     4.0        1            Toy Story (1995)\n",
      "1       1     4.0     1777  Wedding Singer, The (1998)\n",
      "2       1     5.0     1732    Big Lebowski, The (1998)\n",
      "3       1     3.0     1676    Starship Troopers (1997)\n",
      "4       1     5.0       50  Usual Suspects, The (1995)\n"
     ]
    }
   ],
   "source": [
    "data = pd.merge(movies,ratings,on = 'movieId')\n",
    "# print(data.head(5))\n",
    "data[['userId','rating','movieId','title']].sort_values('userId').to_csv('temp/data.csv',index=False)\n",
    "# 将合并后的数据集输出保存到桌面 以备后续分析\n",
    "file = pd.read_csv('temp/data.csv')\n",
    "print(file.head(5))"
   ]
  },
  {
   "cell_type": "code",
   "execution_count": null,
   "metadata": {},
   "outputs": [],
   "source": []
  }
 ],
 "metadata": {
  "kernelspec": {
   "display_name": "Python 3",
   "language": "python",
   "name": "python3"
  },
  "language_info": {
   "codemirror_mode": {
    "name": "ipython",
    "version": 3
   },
   "file_extension": ".py",
   "mimetype": "text/x-python",
   "name": "python",
   "nbconvert_exporter": "python",
   "pygments_lexer": "ipython3",
   "version": "3.7.3"
  }
 },
 "nbformat": 4,
 "nbformat_minor": 2
}
