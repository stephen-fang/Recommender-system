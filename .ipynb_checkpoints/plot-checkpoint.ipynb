{
 "cells": [
  {
   "cell_type": "code",
   "execution_count": 1,
   "metadata": {},
   "outputs": [
    {
     "name": "stderr",
     "output_type": "stream",
     "text": [
      "Using TensorFlow backend.\n"
     ]
    }
   ],
   "source": [
    "import matplotlib.pyplot as plt\n",
    "#import MFModel\n",
    "import MLPModel\n",
    "#import MF_MLPModel"
   ]
  },
  {
   "cell_type": "code",
   "execution_count": 2,
   "metadata": {},
   "outputs": [],
   "source": [
    "M = MFModel.MFModel()"
   ]
  },
  {
   "cell_type": "code",
   "execution_count": 3,
   "metadata": {},
   "outputs": [
    {
     "name": "stdout",
     "output_type": "stream",
     "text": [
      "MF model test err = 1.1277246575319284\n"
     ]
    }
   ],
   "source": [
    "M.eval()"
   ]
  },
  {
   "cell_type": "code",
   "execution_count": 5,
   "metadata": {},
   "outputs": [
    {
     "name": "stdout",
     "output_type": "stream",
     "text": [
      "__________________________________________________________________________________________________\n",
      "Layer (type)                    Output Shape         Param #     Connected to                     \n",
      "==================================================================================================\n",
      "movie (InputLayer)              (None, 1)            0                                            \n",
      "__________________________________________________________________________________________________\n",
      "user (InputLayer)               (None, 1)            0                                            \n",
      "__________________________________________________________________________________________________\n",
      "movie_embedding (Embedding)     (None, 1, 8)         77800       movie[0][0]                      \n",
      "__________________________________________________________________________________________________\n",
      "user_embedding (Embedding)      (None, 1, 8)         4888        user[0][0]                       \n",
      "__________________________________________________________________________________________________\n",
      "flatten_2 (Flatten)             (None, 8)            0           movie_embedding[0][0]            \n",
      "__________________________________________________________________________________________________\n",
      "flatten_1 (Flatten)             (None, 8)            0           user_embedding[0][0]             \n",
      "__________________________________________________________________________________________________\n",
      "dot_1 (Dot)                     (None, 1)            0           flatten_2[0][0]                  \n",
      "                                                                 flatten_1[0][0]                  \n",
      "==================================================================================================\n",
      "Total params: 82,688\n",
      "Trainable params: 82,688\n",
      "Non-trainable params: 0\n",
      "__________________________________________________________________________________________________\n"
     ]
    }
   ],
   "source": [
    "M.model.summary()\n"
   ]
  },
  {
   "cell_type": "code",
   "execution_count": 4,
   "metadata": {},
   "outputs": [
    {
     "data": {
      "image/png": "[encoded data removed]",
      "text/plain": [
       "<Figure size 432x288 with 1 Axes>"
      ]
     },
     "metadata": {
      "needs_background": "light"
     },
     "output_type": "display_data"
    }
   ],
   "source": [
    "M.pplot()"
   ]
  },
  {
   "cell_type": "code",
   "execution_count": 5,
   "metadata": {},
   "outputs": [],
   "source": [
    "from IPython.display import SVG\n",
    "from keras.utils.vis_utils import model_to_dot"
   ]
  },
  {
   "cell_type": "code",
   "execution_count": 8,
   "metadata": {},
   "outputs": [
    {
     "data": {
      "image/svg+xml": [
       "<svg height=\"264pt\" viewBox=\"0.00 0.00 398.30 264.00\" width=\"398pt\" xmlns=\"http://www.w3.org/2000/svg\" xmlns:xlink=\"http://www.w3.org/1999/xlink\">\n",
       "<g class=\"graph\" id=\"graph0\" transform=\"scale(1 1) rotate(0) translate(4 260)\">\n",
       "<title>G</title>\n",
       "<polygon fill=\"#ffffff\" points=\"-4,4 -4,-260 394.3003,-260 394.3003,4 -4,4\" stroke=\"transparent\"/>\n",
       "<!-- 112630894544 -->\n",
       "<g class=\"node\" id=\"node1\">\n",
       "<title>112630894544</title>\n",
       "<polygon fill=\"none\" points=\"35.7793,-219.5 35.7793,-255.5 156.3555,-255.5 156.3555,-219.5 35.7793,-219.5\" stroke=\"#000000\"/>\n",
       "<text fill=\"#000000\" font-family=\"Times,serif\" font-size=\"14.00\" text-anchor=\"middle\" x=\"96.0674\" y=\"-233.3\">movie: InputLayer</text>\n",
       "</g>\n",
       "<!-- 112630320096 -->\n",
       "<g class=\"node\" id=\"node3\">\n",
       "<title>112630320096</title>\n",
       "<polygon fill=\"none\" points=\"0,-146.5 0,-182.5 192.1348,-182.5 192.1348,-146.5 0,-146.5\" stroke=\"#000000\"/>\n",
       "<text fill=\"#000000\" font-family=\"Times,serif\" font-size=\"14.00\" text-anchor=\"middle\" x=\"96.0674\" y=\"-160.3\">movie_embedding: Embedding</text>\n",
       "</g>\n",
       "<!-- 112630894544&#45;&gt;112630320096 -->\n",
       "<g class=\"edge\" id=\"edge1\">\n",
       "<title>112630894544-&gt;112630320096</title>\n",
       "<path d=\"M96.0674,-219.4551C96.0674,-211.3828 96.0674,-201.6764 96.0674,-192.6817\" fill=\"none\" stroke=\"#000000\"/>\n",
       "<polygon fill=\"#000000\" points=\"99.5675,-192.5903 96.0674,-182.5904 92.5675,-192.5904 99.5675,-192.5903\" stroke=\"#000000\"/>\n",
       "</g>\n",
       "<!-- 112630163104 -->\n",
       "<g class=\"node\" id=\"node2\">\n",
       "<title>112630163104</title>\n",
       "<polygon fill=\"none\" points=\"245.6138,-219.5 245.6138,-255.5 354.521,-255.5 354.521,-219.5 245.6138,-219.5\" stroke=\"#000000\"/>\n",
       "<text fill=\"#000000\" font-family=\"Times,serif\" font-size=\"14.00\" text-anchor=\"middle\" x=\"300.0674\" y=\"-233.3\">user: InputLayer</text>\n",
       "</g>\n",
       "<!-- 112630891912 -->\n",
       "<g class=\"node\" id=\"node4\">\n",
       "<title>112630891912</title>\n",
       "<polygon fill=\"none\" points=\"209.8345,-146.5 209.8345,-182.5 390.3003,-182.5 390.3003,-146.5 209.8345,-146.5\" stroke=\"#000000\"/>\n",
       "<text fill=\"#000000\" font-family=\"Times,serif\" font-size=\"14.00\" text-anchor=\"middle\" x=\"300.0674\" y=\"-160.3\">user_embedding: Embedding</text>\n",
       "</g>\n",
       "<!-- 112630163104&#45;&gt;112630891912 -->\n",
       "<g class=\"edge\" id=\"edge2\">\n",
       "<title>112630163104-&gt;112630891912</title>\n",
       "<path d=\"M300.0674,-219.4551C300.0674,-211.3828 300.0674,-201.6764 300.0674,-192.6817\" fill=\"none\" stroke=\"#000000\"/>\n",
       "<polygon fill=\"#000000\" points=\"303.5675,-192.5903 300.0674,-182.5904 296.5675,-192.5904 303.5675,-192.5903\" stroke=\"#000000\"/>\n",
       "</g>\n",
       "<!-- 56782906480 -->\n",
       "<g class=\"node\" id=\"node5\">\n",
       "<title>56782906480</title>\n",
       "<polygon fill=\"none\" points=\"77.4346,-73.5 77.4346,-109.5 188.7002,-109.5 188.7002,-73.5 77.4346,-73.5\" stroke=\"#000000\"/>\n",
       "<text fill=\"#000000\" font-family=\"Times,serif\" font-size=\"14.00\" text-anchor=\"middle\" x=\"133.0674\" y=\"-87.3\">flatten_2: Flatten</text>\n",
       "</g>\n",
       "<!-- 112630320096&#45;&gt;56782906480 -->\n",
       "<g class=\"edge\" id=\"edge3\">\n",
       "<title>112630320096-&gt;56782906480</title>\n",
       "<path d=\"M105.2135,-146.4551C109.4827,-138.0319 114.6539,-127.8292 119.376,-118.5128\" fill=\"none\" stroke=\"#000000\"/>\n",
       "<polygon fill=\"#000000\" points=\"122.4992,-120.0924 123.8983,-109.5904 116.2554,-116.9277 122.4992,-120.0924\" stroke=\"#000000\"/>\n",
       "</g>\n",
       "<!-- 4601681176 -->\n",
       "<g class=\"node\" id=\"node6\">\n",
       "<title>4601681176</title>\n",
       "<polygon fill=\"none\" points=\"225.4346,-73.5 225.4346,-109.5 336.7002,-109.5 336.7002,-73.5 225.4346,-73.5\" stroke=\"#000000\"/>\n",
       "<text fill=\"#000000\" font-family=\"Times,serif\" font-size=\"14.00\" text-anchor=\"middle\" x=\"281.0674\" y=\"-87.3\">flatten_1: Flatten</text>\n",
       "</g>\n",
       "<!-- 112630891912&#45;&gt;4601681176 -->\n",
       "<g class=\"edge\" id=\"edge4\">\n",
       "<title>112630891912-&gt;4601681176</title>\n",
       "<path d=\"M295.3708,-146.4551C293.2469,-138.2951 290.6885,-128.4652 288.3261,-119.3887\" fill=\"none\" stroke=\"#000000\"/>\n",
       "<polygon fill=\"#000000\" points=\"291.6819,-118.3863 285.7758,-109.5904 284.9076,-120.1496 291.6819,-118.3863\" stroke=\"#000000\"/>\n",
       "</g>\n",
       "<!-- 112651980584 -->\n",
       "<g class=\"node\" id=\"node7\">\n",
       "<title>112651980584</title>\n",
       "<polygon fill=\"none\" points=\"158.9277,-.5 158.9277,-36.5 235.207,-36.5 235.207,-.5 158.9277,-.5\" stroke=\"#000000\"/>\n",
       "<text fill=\"#000000\" font-family=\"Times,serif\" font-size=\"14.00\" text-anchor=\"middle\" x=\"197.0674\" y=\"-14.3\">dot_1: Dot</text>\n",
       "</g>\n",
       "<!-- 56782906480&#45;&gt;112651980584 -->\n",
       "<g class=\"edge\" id=\"edge5\">\n",
       "<title>56782906480-&gt;112651980584</title>\n",
       "<path d=\"M148.8876,-73.4551C156.58,-64.6809 165.9652,-53.9759 174.4017,-44.353\" fill=\"none\" stroke=\"#000000\"/>\n",
       "<polygon fill=\"#000000\" points=\"177.2468,-46.4171 181.2073,-36.5904 171.9832,-41.8024 177.2468,-46.4171\" stroke=\"#000000\"/>\n",
       "</g>\n",
       "<!-- 4601681176&#45;&gt;112651980584 -->\n",
       "<g class=\"edge\" id=\"edge6\">\n",
       "<title>4601681176-&gt;112651980584</title>\n",
       "<path d=\"M260.3033,-73.4551C249.8032,-64.3299 236.9,-53.1165 225.4935,-43.2036\" fill=\"none\" stroke=\"#000000\"/>\n",
       "<polygon fill=\"#000000\" points=\"227.7276,-40.5082 217.8837,-36.5904 223.1358,-45.7918 227.7276,-40.5082\" stroke=\"#000000\"/>\n",
       "</g>\n",
       "</g>\n",
       "</svg>"
      ],
      "text/plain": [
       "<IPython.core.display.SVG object>"
      ]
     },
     "execution_count": 8,
     "metadata": {},
     "output_type": "execute_result"
    }
   ],
   "source": [
    "SVG(model_to_dot(M.model,  show_shapes=False, show_layer_names=True, rankdir='HB').create(prog='dot', format='svg'))\n"
   ]
  },
  {
   "cell_type": "code",
   "execution_count": null,
   "metadata": {},
   "outputs": [],
   "source": []
  }
 ],
 "metadata": {
  "kernelspec": {
   "display_name": "Python 3",
   "language": "python",
   "name": "python3"
  },
  "language_info": {
   "codemirror_mode": {
    "name": "ipython",
    "version": 3
   },
   "file_extension": ".py",
   "mimetype": "text/x-python",
   "name": "python",
   "nbconvert_exporter": "python",
   "pygments_lexer": "ipython3",
   "version": "3.7.3"
  }
 },
 "nbformat": 4,
 "nbformat_minor": 2
}
