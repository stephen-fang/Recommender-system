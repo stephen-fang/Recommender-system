{
 "cells": [
  {
   "cell_type": "code",
   "execution_count": 1,
   "metadata": {},
   "outputs": [],
   "source": [
    "import pandas as pd  "
   ]
  },
  {
   "cell_type": "code",
   "execution_count": 5,
   "metadata": {},
   "outputs": [
    {
     "name": "stdout",
     "output_type": "stream",
     "text": [
      "    userId  movieId  rating            timestamp\n",
      "0        1        2     3.5  2005-04-02 23:53:47\n",
      "1        1       29     3.5  2005-04-02 23:31:16\n",
      "2        1       32     3.5  2005-04-02 23:33:39\n",
      "3        1       47     3.5  2005-04-02 23:32:07\n",
      "4        1       50     3.5  2005-04-02 23:29:40\n",
      "5        1      112     3.5  2004-09-10 03:09:00\n",
      "6        1      151     4.0  2004-09-10 03:08:54\n",
      "7        1      223     4.0  2005-04-02 23:46:13\n",
      "8        1      253     4.0  2005-04-02 23:35:40\n",
      "9        1      260     4.0  2005-04-02 23:33:46\n",
      "10       1      293     4.0  2005-04-02 23:31:43\n",
      "11       1      296     4.0  2005-04-02 23:32:47\n",
      "12       1      318     4.0  2005-04-02 23:33:18\n",
      "13       1      337     3.5  2004-09-10 03:08:29\n",
      "14       1      367     3.5  2005-04-02 23:53:00\n",
      "15       1      541     4.0  2005-04-02 23:30:03\n",
      "16       1      589     3.5  2005-04-02 23:45:57\n",
      "17       1      593     3.5  2005-04-02 23:31:01\n",
      "18       1      653     3.0  2004-09-10 03:08:11\n",
      "19       1      919     3.5  2004-09-10 03:07:01\n"
     ]
    }
   ],
   "source": [
    "rating = pd.read_csv('dataset/rating.csv')    \n",
    "print (ratings.head(20)) "
   ]
  },
  {
   "cell_type": "code",
   "execution_count": 6,
   "metadata": {},
   "outputs": [
    {
     "name": "stdout",
     "output_type": "stream",
     "text": [
      "   movieId                               title  \\\n",
      "0        1                    Toy Story (1995)   \n",
      "1        2                      Jumanji (1995)   \n",
      "2        3             Grumpier Old Men (1995)   \n",
      "3        4            Waiting to Exhale (1995)   \n",
      "4        5  Father of the Bride Part II (1995)   \n",
      "5        6                         Heat (1995)   \n",
      "6        7                      Sabrina (1995)   \n",
      "7        8                 Tom and Huck (1995)   \n",
      "8        9                 Sudden Death (1995)   \n",
      "9       10                    GoldenEye (1995)   \n",
      "\n",
      "                                        genres  \n",
      "0  Adventure|Animation|Children|Comedy|Fantasy  \n",
      "1                   Adventure|Children|Fantasy  \n",
      "2                               Comedy|Romance  \n",
      "3                         Comedy|Drama|Romance  \n",
      "4                                       Comedy  \n",
      "5                        Action|Crime|Thriller  \n",
      "6                               Comedy|Romance  \n",
      "7                           Adventure|Children  \n",
      "8                                       Action  \n",
      "9                    Action|Adventure|Thriller  \n"
     ]
    }
   ],
   "source": [
    "movies = pd.read_csv(\"dataset/movie.csv\")\n",
    "print(movies.head(10))"
   ]
  },
  {
   "cell_type": "code",
   "execution_count": 9,
   "metadata": {},
   "outputs": [
    {
     "name": "stdout",
     "output_type": "stream",
     "text": [
      "   movieId             title                                       genres  \\\n",
      "0        1  Toy Story (1995)  Adventure|Animation|Children|Comedy|Fantasy   \n",
      "1        1  Toy Story (1995)  Adventure|Animation|Children|Comedy|Fantasy   \n",
      "2        1  Toy Story (1995)  Adventure|Animation|Children|Comedy|Fantasy   \n",
      "3        1  Toy Story (1995)  Adventure|Animation|Children|Comedy|Fantasy   \n",
      "4        1  Toy Story (1995)  Adventure|Animation|Children|Comedy|Fantasy   \n",
      "\n",
      "   userId  rating            timestamp  \n",
      "0       3     4.0  1999-12-11 13:36:47  \n",
      "1       6     5.0  1997-03-13 17:50:52  \n",
      "2       8     4.0  1996-06-05 13:37:51  \n",
      "3      10     4.0  1999-11-25 02:44:47  \n",
      "4      11     4.5  2009-01-02 01:13:41  \n"
     ]
    },
    {
     "ename": "NameError",
     "evalue": "name 'file' is not defined",
     "output_type": "error",
     "traceback": [
      "\u001b[0;31m---------------------------------------------------------------------------\u001b[0m",
      "\u001b[0;31mNameError\u001b[0m                                 Traceback (most recent call last)",
      "\u001b[0;32m<ipython-input-9-16079ddaca49>\u001b[0m in \u001b[0;36m<module>\u001b[0;34m\u001b[0m\n\u001b[1;32m      4\u001b[0m \u001b[0;31m# 将合并后的数据集输出保存到桌面 以备后续分析\u001b[0m\u001b[0;34m\u001b[0m\u001b[0;34m\u001b[0m\u001b[0;34m\u001b[0m\u001b[0m\n\u001b[1;32m      5\u001b[0m \u001b[0mfiles\u001b[0m \u001b[0;34m=\u001b[0m \u001b[0mpd\u001b[0m\u001b[0;34m.\u001b[0m\u001b[0mread_csv\u001b[0m\u001b[0;34m(\u001b[0m\u001b[0;34m'temp/data.csv'\u001b[0m\u001b[0;34m)\u001b[0m\u001b[0;34m\u001b[0m\u001b[0;34m\u001b[0m\u001b[0m\n\u001b[0;32m----> 6\u001b[0;31m \u001b[0mprint\u001b[0m\u001b[0;34m(\u001b[0m\u001b[0mfile\u001b[0m\u001b[0;34m.\u001b[0m\u001b[0mhead\u001b[0m\u001b[0;34m(\u001b[0m\u001b[0;36m5\u001b[0m\u001b[0;34m)\u001b[0m\u001b[0;34m)\u001b[0m\u001b[0;34m\u001b[0m\u001b[0;34m\u001b[0m\u001b[0m\n\u001b[0m",
      "\u001b[0;31mNameError\u001b[0m: name 'file' is not defined"
     ]
    }
   ],
   "source": [
    "data = pd.merge(movies,ratings,on = 'movieId')\n",
    "print(data.head(5))\n",
    "data[['userId','rating','movieId','title']].sort_values('userId').to_csv('temp/data.csv',index=False)\n",
    "# 将合并后的数据集输出保存到桌面 以备后续分析\n",
    "files = pd.read_csv('temp/data.csv')\n",
    "print(file.head(5))"
   ]
  },
  {
   "cell_type": "code",
   "execution_count": null,
   "metadata": {},
   "outputs": [],
   "source": []
  }
 ],
 "metadata": {
  "kernelspec": {
   "display_name": "Python 3",
   "language": "python",
   "name": "python3"
  },
  "language_info": {
   "codemirror_mode": {
    "name": "ipython",
    "version": 3
   },
   "file_extension": ".py",
   "mimetype": "text/x-python",
   "name": "python",
   "nbconvert_exporter": "python",
   "pygments_lexer": "ipython3",
   "version": "3.7.3"
  }
 },
 "nbformat": 4,
 "nbformat_minor": 2
}
