{
 "cells": [
  {
   "cell_type": "code",
   "execution_count": 27,
   "metadata": {},
   "outputs": [],
   "source": [
    "# used code from https://www.ethanrosenthal.com/2015/11/02/intro-to-collaborative-filtering/\n",
    "from sklearn.metrics import mean_squared_error\n",
    "\n",
    "import pandas as pd\n",
    "import numpy as np"
   ]
  },
  {
   "cell_type": "code",
   "execution_count": 29,
   "metadata": {},
   "outputs": [
    {
     "name": "stdout",
     "output_type": "stream",
     "text": [
      "(610, 9724)\n"
     ]
    }
   ],
   "source": [
    "def get_Matrix(rating_path):\n",
    "    csv_df = pd.read_csv(rating_path)\n",
    "    \n",
    "    csv_df.userId = csv_df.userId.astype('category').cat.codes.values\n",
    "    csv_df.movieId = csv_df.movieId.astype('category').cat.codes.values\n",
    "    \n",
    "    num_users, num_movies = len(csv_df.userId.unique()), len(csv_df.movieId.unique())\n",
    "\n",
    "    rating_M = np.zeros((num_users, num_movies))\n",
    "\n",
    "    for row in csv_df.itertuples():\n",
    "        rating_M[row[1],row[2]] = row[3]\n",
    "    print(rating_M.shape)\n",
    "    return train_test_split(rating_M)\n",
    "    \n",
    "    \n",
    "def train_test_split(ratings):\n",
    "    test = np.zeros(ratings.shape)\n",
    "    train = ratings.copy()\n",
    "    for user in range(ratings.shape[0]):\n",
    "        test_ratings = np.random.choice(ratings[user, :].nonzero()[0], \n",
    "                                        size=10, \n",
    "                                        replace=False)\n",
    "        train[user, test_ratings] = 0.\n",
    "        test[user, test_ratings] = ratings[user, test_ratings]\n",
    "\n",
    "    # Test and training are truly disjoint\n",
    "    assert(np.all((train * test) == 0)) \n",
    "    return train, test\n",
    "\n",
    "\n",
    "train, test = get_Matrix('dataset/rating.csv')"
   ]
  },
  {
   "cell_type": "code",
   "execution_count": 30,
   "metadata": {},
   "outputs": [],
   "source": [
    "class MemoryBCF:\n",
    "    def __init__(self, train, test, k , type='user'):\n",
    "        self.type = type\n",
    "        self.rating_train_M = train\n",
    "        self.rating_test_M = test\n",
    "        self.k = k\n",
    "        self.result = self.evaluate()\n",
    "\n",
    "    def _sim(self, ratings, epsilon=1e-9):\n",
    "        if self.type == 'user':\n",
    "            sim = ratings.dot(ratings.T) + epsilon\n",
    "        elif self.type == 'item':\n",
    "            sim = ratings.T.dot(ratings) + epsilon\n",
    "        norms = np.array([np.sqrt(np.diagonal(sim))])\n",
    "        return (sim / norms / norms.T)\n",
    "\n",
    "\n",
    "    def _predict(self, ratings, similarity):\n",
    "        \n",
    "        # No top K\n",
    "#         if self.type == 'user':\n",
    "#             return similarity.dot(ratings) / np.array([np.abs(similarity).sum(axis=1)]).T\n",
    "#         elif self.type == 'item':\n",
    "#             return ratings.dot(similarity) / np.array([np.abs(similarity).sum(axis=1)])\n",
    "    \n",
    "        # With Top K\n",
    "        pred = np.zeros(ratings.shape)\n",
    "        if self.type == 'user':\n",
    "            for i in range(ratings.shape[0]):\n",
    "                top_k_users = [np.argsort(similarity[:,i])[:-self.k-1:-1]]\n",
    "                for j in range(ratings.shape[1]):\n",
    "                    pred[i, j] = similarity[i, :][top_k_users].dot(ratings[:, j][top_k_users]) \n",
    "                    pred[i, j] /= np.sum(np.abs(similarity[i, :][top_k_users]))\n",
    "                #print(i)    \n",
    "            return pred\n",
    "        \n",
    "        elif self.type == 'item':\n",
    "\n",
    "            for j in range(ratings.shape[1]):\n",
    "                top_k_items = [np.argsort(similarity[:,j])[:-self.k-1:-1]]\n",
    "                for i in range(ratings.shape[0]):\n",
    "                    pred[i, j] = similarity[j, :][top_k_items].dot(ratings[i, :][top_k_items].T) \n",
    "                    pred[i, j] /= np.sum(np.abs(similarity[j, :][top_k_items]))     \n",
    "                #print(j)\n",
    "            return pred\n",
    "        \n",
    "    def _rmse(self, pred, actual):\n",
    "        #actual = actual.values\n",
    "        pred = pred[actual.nonzero()].flatten()\n",
    "        actual = actual[actual.nonzero()].flatten()\n",
    "        return np.sqrt(mean_squared_error(pred, actual))\n",
    "\n",
    "    def evaluate(self):\n",
    "        sim = self._sim(self.rating_train_M)\n",
    "\n",
    "        pred = self._predict(self.rating_train_M, sim)\n",
    "        print(pred.shape)\n",
    "        rmse_val = self._rmse(pred, self.rating_test_M)\n",
    "        print(rmse_val)\n",
    "        return rmse_val"
   ]
  },
  {
   "cell_type": "code",
   "execution_count": null,
   "metadata": {
    "scrolled": true
   },
   "outputs": [],
   "source": [
    "print('User')\n",
    "for k in range(25, 225, 25):\n",
    "    UserBM = MemoryBCF(train, test, k, 'user') \n",
    "    print(k , UserBM.result)\n",
    "\n",
    "print('Item')\n",
    "for k in range(25, 225, 25):\n",
    "    ItemBM = MemoryBCF(train, test, k, 'item') \n",
    "    print(k , ItemBM.result)"
   ]
  },
  {
   "cell_type": "code",
   "execution_count": 55,
   "metadata": {},
   "outputs": [
    {
     "data": {
      "text/plain": [
       "<matplotlib.axes._subplots.AxesSubplot at 0x1a19656c88>"
      ]
     },
     "execution_count": 55,
     "metadata": {},
     "output_type": "execute_result"
    },
    {
     "data": {
      "image/png": "[encoded data removed]",
      "text/plain": [
       "<Figure size 432x288 with 1 Axes>"
      ]
     },
     "metadata": {
      "needs_background": "light"
     },
     "output_type": "display_data"
    }
   ],
   "source": [
    "x = [e for e in range(25, 225, 25)]\n",
    "\n",
    "df = pd.DataFrame(columns=['user', 'item'],index=x)\n",
    "\n",
    "# copied from results in terminal\n",
    "df['user'] = [2.916, 2.887, 2.901, 2.923, 2.943, 2.964, 2.985, 3.005]\n",
    "df['item'] = [3.179, 3.222, 3.263, 3.294,3.320,3.342,3.362,3.379]\n",
    "\n",
    "import seaborn\n",
    "\n",
    "ax = seaborn.lineplot(data=df, markers=True)\n",
    "ax.set_title(\"Top K\")\n",
    "ax"
   ]
  }
 ],
 "metadata": {
  "kernelspec": {
   "display_name": "Python 3",
   "language": "python",
   "name": "python3"
  },
  "language_info": {
   "codemirror_mode": {
    "name": "ipython",
    "version": 3
   },
   "file_extension": ".py",
   "mimetype": "text/x-python",
   "name": "python",
   "nbconvert_exporter": "python",
   "pygments_lexer": "ipython3",
   "version": "3.7.3"
  }
 },
 "nbformat": 4,
 "nbformat_minor": 2
}
