{
 "cells": [
  {
   "cell_type": "code",
   "execution_count": 1,
   "metadata": {},
   "outputs": [
    {
     "name": "stderr",
     "output_type": "stream",
     "text": [
      "Using TensorFlow backend.\n"
     ]
    }
   ],
   "source": [
    "import matplotlib.pyplot as plt\n",
    "#import MFModel\n",
    "import MLPModel\n",
    "#import MF_MLPModel"
   ]
  },
  {
   "cell_type": "code",
   "execution_count": 2,
   "metadata": {},
   "outputs": [],
   "source": [
    "M = MLPModel.MLPModel()"
   ]
  },
  {
   "cell_type": "code",
   "execution_count": 3,
   "metadata": {},
   "outputs": [
    {
     "name": "stdout",
     "output_type": "stream",
     "text": [
      "MLP Model test err = 0.8621167651515895\n"
     ]
    }
   ],
   "source": [
    "M.eval()"
   ]
  },
  {
   "cell_type": "code",
   "execution_count": 4,
   "metadata": {},
   "outputs": [
    {
     "data": {
      "image/png": "[encoded data removed]",
      "text/plain": [
       "<Figure size 432x288 with 1 Axes>"
      ]
     },
     "metadata": {
      "needs_background": "light"
     },
     "output_type": "display_data"
    }
   ],
   "source": [
    "M.pplot()"
   ]
  },
  {
   "cell_type": "code",
   "execution_count": null,
   "metadata": {},
   "outputs": [],
   "source": []
  },
  {
   "cell_type": "code",
   "execution_count": 8,
   "metadata": {},
   "outputs": [
    {
     "ename": "NameError",
     "evalue": "name 'model' is not defined",
     "output_type": "error",
     "traceback": [
      "\u001b[0;31m---------------------------------------------------------------------------\u001b[0m",
      "\u001b[0;31mNameError\u001b[0m                                 Traceback (most recent call last)",
      "\u001b[0;32m<ipython-input-8-f6f7f2aa75bf>\u001b[0m in \u001b[0;36m<module>\u001b[0;34m\u001b[0m\n\u001b[0;32m----> 1\u001b[0;31m \u001b[0mM\u001b[0m\u001b[0;34m.\u001b[0m\u001b[0mget_graph\u001b[0m\u001b[0;34m(\u001b[0m\u001b[0;34m)\u001b[0m\u001b[0;34m\u001b[0m\u001b[0;34m\u001b[0m\u001b[0m\n\u001b[0m",
      "\u001b[0;32m~/Dropbox/UNSW/T2/COMP9417/assignment/Recommender-system/MLPModel.py\u001b[0m in \u001b[0;36mget_graph\u001b[0;34m(self)\u001b[0m\n\u001b[1;32m     91\u001b[0m \u001b[0;34m\u001b[0m\u001b[0m\n\u001b[1;32m     92\u001b[0m     \u001b[0;32mdef\u001b[0m \u001b[0mget_graph\u001b[0m\u001b[0;34m(\u001b[0m\u001b[0mself\u001b[0m\u001b[0;34m)\u001b[0m\u001b[0;34m:\u001b[0m\u001b[0;34m\u001b[0m\u001b[0;34m\u001b[0m\u001b[0m\n\u001b[0;32m---> 93\u001b[0;31m         self.svg = SVG(model_to_dot(model,  show_shapes=False,\n\u001b[0m\u001b[1;32m     94\u001b[0m                                     show_layer_names=True, rankdir='HB').create(prog='dot', format='svg'))\n\u001b[1;32m     95\u001b[0m         \u001b[0;32mreturn\u001b[0m \u001b[0mself\u001b[0m\u001b[0;34m.\u001b[0m\u001b[0msvg\u001b[0m\u001b[0;34m\u001b[0m\u001b[0;34m\u001b[0m\u001b[0m\n",
      "\u001b[0;31mNameError\u001b[0m: name 'model' is not defined"
     ]
    }
   ],
   "source": [
    "M.get_graph()"
   ]
  },
  {
   "cell_type": "code",
   "execution_count": 5,
   "metadata": {},
   "outputs": [],
   "source": [
    "M.get_graph"
   ]
  },
  {
   "cell_type": "code",
   "execution_count": 10,
   "metadata": {},
   "outputs": [
    {
     "data": {
      "image/svg+xml": [
       "<svg height=\"1213pt\" viewBox=\"0.00 0.00 354.14 1213.00\" width=\"354pt\" xmlns=\"http://www.w3.org/2000/svg\" xmlns:xlink=\"http://www.w3.org/1999/xlink\">\n",
       "<g class=\"graph\" id=\"graph0\" transform=\"scale(1 1) rotate(0) translate(4 1209)\">\n",
       "<title>G</title>\n",
       "<polygon fill=\"#ffffff\" points=\"-4,4 -4,-1209 350.1416,-1209 350.1416,4 -4,4\" stroke=\"transparent\"/>\n",
       "<!-- 112475578208 -->\n",
       "<g class=\"node\" id=\"node1\">\n",
       "<title>112475578208</title>\n",
       "<polygon fill=\"none\" points=\"17.8896,-1168.5 17.8896,-1204.5 146.252,-1204.5 146.252,-1168.5 17.8896,-1168.5\" stroke=\"#000000\"/>\n",
       "<text fill=\"#000000\" font-family=\"Times,serif\" font-size=\"14.00\" text-anchor=\"middle\" x=\"82.0708\" y=\"-1182.3\">input_2: InputLayer</text>\n",
       "</g>\n",
       "<!-- 112478868088 -->\n",
       "<g class=\"node\" id=\"node3\">\n",
       "<title>112478868088</title>\n",
       "<polygon fill=\"none\" points=\"0,-1095.5 0,-1131.5 164.1416,-1131.5 164.1416,-1095.5 0,-1095.5\" stroke=\"#000000\"/>\n",
       "<text fill=\"#000000\" font-family=\"Times,serif\" font-size=\"14.00\" text-anchor=\"middle\" x=\"82.0708\" y=\"-1109.3\">embedding_2: Embedding</text>\n",
       "</g>\n",
       "<!-- 112475578208&#45;&gt;112478868088 -->\n",
       "<g class=\"edge\" id=\"edge1\">\n",
       "<title>112475578208-&gt;112478868088</title>\n",
       "<path d=\"M82.0708,-1168.4551C82.0708,-1160.3828 82.0708,-1150.6764 82.0708,-1141.6817\" fill=\"none\" stroke=\"#000000\"/>\n",
       "<polygon fill=\"#000000\" points=\"85.5709,-1141.5903 82.0708,-1131.5904 78.5709,-1141.5904 85.5709,-1141.5903\" stroke=\"#000000\"/>\n",
       "</g>\n",
       "<!-- 112476147048 -->\n",
       "<g class=\"node\" id=\"node2\">\n",
       "<title>112476147048</title>\n",
       "<polygon fill=\"none\" points=\"199.8896,-1168.5 199.8896,-1204.5 328.252,-1204.5 328.252,-1168.5 199.8896,-1168.5\" stroke=\"#000000\"/>\n",
       "<text fill=\"#000000\" font-family=\"Times,serif\" font-size=\"14.00\" text-anchor=\"middle\" x=\"264.0708\" y=\"-1182.3\">input_1: InputLayer</text>\n",
       "</g>\n",
       "<!-- 4446939232 -->\n",
       "<g class=\"node\" id=\"node4\">\n",
       "<title>4446939232</title>\n",
       "<polygon fill=\"none\" points=\"182,-1095.5 182,-1131.5 346.1416,-1131.5 346.1416,-1095.5 182,-1095.5\" stroke=\"#000000\"/>\n",
       "<text fill=\"#000000\" font-family=\"Times,serif\" font-size=\"14.00\" text-anchor=\"middle\" x=\"264.0708\" y=\"-1109.3\">embedding_1: Embedding</text>\n",
       "</g>\n",
       "<!-- 112476147048&#45;&gt;4446939232 -->\n",
       "<g class=\"edge\" id=\"edge2\">\n",
       "<title>112476147048-&gt;4446939232</title>\n",
       "<path d=\"M264.0708,-1168.4551C264.0708,-1160.3828 264.0708,-1150.6764 264.0708,-1141.6817\" fill=\"none\" stroke=\"#000000\"/>\n",
       "<polygon fill=\"#000000\" points=\"267.5709,-1141.5903 264.0708,-1131.5904 260.5709,-1141.5904 267.5709,-1141.5903\" stroke=\"#000000\"/>\n",
       "</g>\n",
       "<!-- 112478870328 -->\n",
       "<g class=\"node\" id=\"node5\">\n",
       "<title>112478870328</title>\n",
       "<polygon fill=\"none\" points=\"35.438,-1022.5 35.438,-1058.5 146.7036,-1058.5 146.7036,-1022.5 35.438,-1022.5\" stroke=\"#000000\"/>\n",
       "<text fill=\"#000000\" font-family=\"Times,serif\" font-size=\"14.00\" text-anchor=\"middle\" x=\"91.0708\" y=\"-1036.3\">flatten_2: Flatten</text>\n",
       "</g>\n",
       "<!-- 112478868088&#45;&gt;112478870328 -->\n",
       "<g class=\"edge\" id=\"edge3\">\n",
       "<title>112478868088-&gt;112478870328</title>\n",
       "<path d=\"M84.2955,-1095.4551C85.2907,-1087.3828 86.4874,-1077.6764 87.5963,-1068.6817\" fill=\"none\" stroke=\"#000000\"/>\n",
       "<polygon fill=\"#000000\" points=\"91.0905,-1068.9435 88.8405,-1058.5904 84.1431,-1068.0869 91.0905,-1068.9435\" stroke=\"#000000\"/>\n",
       "</g>\n",
       "<!-- 4446938168 -->\n",
       "<g class=\"node\" id=\"node6\">\n",
       "<title>4446938168</title>\n",
       "<polygon fill=\"none\" points=\"205.438,-1022.5 205.438,-1058.5 316.7036,-1058.5 316.7036,-1022.5 205.438,-1022.5\" stroke=\"#000000\"/>\n",
       "<text fill=\"#000000\" font-family=\"Times,serif\" font-size=\"14.00\" text-anchor=\"middle\" x=\"261.0708\" y=\"-1036.3\">flatten_1: Flatten</text>\n",
       "</g>\n",
       "<!-- 4446939232&#45;&gt;4446938168 -->\n",
       "<g class=\"edge\" id=\"edge4\">\n",
       "<title>4446939232-&gt;4446938168</title>\n",
       "<path d=\"M263.3292,-1095.4551C262.9975,-1087.3828 262.5986,-1077.6764 262.229,-1068.6817\" fill=\"none\" stroke=\"#000000\"/>\n",
       "<polygon fill=\"#000000\" points=\"265.722,-1068.4382 261.8142,-1058.5904 258.7279,-1068.7257 265.722,-1068.4382\" stroke=\"#000000\"/>\n",
       "</g>\n",
       "<!-- 112478868368 -->\n",
       "<g class=\"node\" id=\"node7\">\n",
       "<title>112478868368</title>\n",
       "<polygon fill=\"none\" points=\"45.269,-949.5 45.269,-985.5 172.8726,-985.5 172.8726,-949.5 45.269,-949.5\" stroke=\"#000000\"/>\n",
       "<text fill=\"#000000\" font-family=\"Times,serif\" font-size=\"14.00\" text-anchor=\"middle\" x=\"109.0708\" y=\"-963.3\">dropout_2: Dropout</text>\n",
       "</g>\n",
       "<!-- 112478870328&#45;&gt;112478868368 -->\n",
       "<g class=\"edge\" id=\"edge5\">\n",
       "<title>112478870328-&gt;112478868368</title>\n",
       "<path d=\"M95.5202,-1022.4551C97.5323,-1014.2951 99.9561,-1004.4652 102.1941,-995.3887\" fill=\"none\" stroke=\"#000000\"/>\n",
       "<polygon fill=\"#000000\" points=\"105.6143,-996.1375 104.6102,-985.5904 98.8178,-994.4616 105.6143,-996.1375\" stroke=\"#000000\"/>\n",
       "</g>\n",
       "<!-- 112475578040 -->\n",
       "<g class=\"node\" id=\"node8\">\n",
       "<title>112475578040</title>\n",
       "<polygon fill=\"none\" points=\"195.269,-949.5 195.269,-985.5 322.8726,-985.5 322.8726,-949.5 195.269,-949.5\" stroke=\"#000000\"/>\n",
       "<text fill=\"#000000\" font-family=\"Times,serif\" font-size=\"14.00\" text-anchor=\"middle\" x=\"259.0708\" y=\"-963.3\">dropout_1: Dropout</text>\n",
       "</g>\n",
       "<!-- 4446938168&#45;&gt;112475578040 -->\n",
       "<g class=\"edge\" id=\"edge6\">\n",
       "<title>4446938168-&gt;112475578040</title>\n",
       "<path d=\"M260.5764,-1022.4551C260.3553,-1014.3828 260.0893,-1004.6764 259.8429,-995.6817\" fill=\"none\" stroke=\"#000000\"/>\n",
       "<polygon fill=\"#000000\" points=\"263.3391,-995.4907 259.5664,-985.5904 256.3417,-995.6825 263.3391,-995.4907\" stroke=\"#000000\"/>\n",
       "</g>\n",
       "<!-- 112478869712 -->\n",
       "<g class=\"node\" id=\"node9\">\n",
       "<title>112478869712</title>\n",
       "<polygon fill=\"none\" points=\"95.7515,-876.5 95.7515,-912.5 268.3901,-912.5 268.3901,-876.5 95.7515,-876.5\" stroke=\"#000000\"/>\n",
       "<text fill=\"#000000\" font-family=\"Times,serif\" font-size=\"14.00\" text-anchor=\"middle\" x=\"182.0708\" y=\"-890.3\">concatenate_1: Concatenate</text>\n",
       "</g>\n",
       "<!-- 112478868368&#45;&gt;112478869712 -->\n",
       "<g class=\"edge\" id=\"edge7\">\n",
       "<title>112478868368-&gt;112478869712</title>\n",
       "<path d=\"M127.1157,-949.4551C136.0654,-940.5054 147.0238,-929.547 156.7939,-919.7769\" fill=\"none\" stroke=\"#000000\"/>\n",
       "<polygon fill=\"#000000\" points=\"159.3842,-922.1363 163.9804,-912.5904 154.4345,-917.1866 159.3842,-922.1363\" stroke=\"#000000\"/>\n",
       "</g>\n",
       "<!-- 112475578040&#45;&gt;112478869712 -->\n",
       "<g class=\"edge\" id=\"edge8\">\n",
       "<title>112475578040-&gt;112478869712</title>\n",
       "<path d=\"M240.0371,-949.4551C230.5045,-940.4177 218.8113,-929.3319 208.43,-919.4899\" fill=\"none\" stroke=\"#000000\"/>\n",
       "<polygon fill=\"#000000\" points=\"210.8175,-916.9305 201.1524,-912.5904 206.0015,-922.0104 210.8175,-916.9305\" stroke=\"#000000\"/>\n",
       "</g>\n",
       "<!-- 112478869600 -->\n",
       "<g class=\"node\" id=\"node10\">\n",
       "<title>112478869600</title>\n",
       "<polygon fill=\"none\" points=\"118.269,-803.5 118.269,-839.5 245.8726,-839.5 245.8726,-803.5 118.269,-803.5\" stroke=\"#000000\"/>\n",
       "<text fill=\"#000000\" font-family=\"Times,serif\" font-size=\"14.00\" text-anchor=\"middle\" x=\"182.0708\" y=\"-817.3\">dropout_3: Dropout</text>\n",
       "</g>\n",
       "<!-- 112478869712&#45;&gt;112478869600 -->\n",
       "<g class=\"edge\" id=\"edge9\">\n",
       "<title>112478869712-&gt;112478869600</title>\n",
       "<path d=\"M182.0708,-876.4551C182.0708,-868.3828 182.0708,-858.6764 182.0708,-849.6817\" fill=\"none\" stroke=\"#000000\"/>\n",
       "<polygon fill=\"#000000\" points=\"185.5709,-849.5903 182.0708,-839.5904 178.5709,-849.5904 185.5709,-849.5903\" stroke=\"#000000\"/>\n",
       "</g>\n",
       "<!-- 112479027096 -->\n",
       "<g class=\"node\" id=\"node11\">\n",
       "<title>112479027096</title>\n",
       "<polygon fill=\"none\" points=\"129.9448,-730.5 129.9448,-766.5 234.1968,-766.5 234.1968,-730.5 129.9448,-730.5\" stroke=\"#000000\"/>\n",
       "<text fill=\"#000000\" font-family=\"Times,serif\" font-size=\"14.00\" text-anchor=\"middle\" x=\"182.0708\" y=\"-744.3\">dense_1: Dense</text>\n",
       "</g>\n",
       "<!-- 112478869600&#45;&gt;112479027096 -->\n",
       "<g class=\"edge\" id=\"edge10\">\n",
       "<title>112478869600-&gt;112479027096</title>\n",
       "<path d=\"M182.0708,-803.4551C182.0708,-795.3828 182.0708,-785.6764 182.0708,-776.6817\" fill=\"none\" stroke=\"#000000\"/>\n",
       "<polygon fill=\"#000000\" points=\"185.5709,-776.5903 182.0708,-766.5904 178.5709,-776.5904 185.5709,-776.5903\" stroke=\"#000000\"/>\n",
       "</g>\n",
       "<!-- 112479480520 -->\n",
       "<g class=\"node\" id=\"node12\">\n",
       "<title>112479480520</title>\n",
       "<polygon fill=\"none\" points=\"49.0825,-657.5 49.0825,-693.5 315.0591,-693.5 315.0591,-657.5 49.0825,-657.5\" stroke=\"#000000\"/>\n",
       "<text fill=\"#000000\" font-family=\"Times,serif\" font-size=\"14.00\" text-anchor=\"middle\" x=\"182.0708\" y=\"-671.3\">batch_normalization_1: BatchNormalization</text>\n",
       "</g>\n",
       "<!-- 112479027096&#45;&gt;112479480520 -->\n",
       "<g class=\"edge\" id=\"edge11\">\n",
       "<title>112479027096-&gt;112479480520</title>\n",
       "<path d=\"M182.0708,-730.4551C182.0708,-722.3828 182.0708,-712.6764 182.0708,-703.6817\" fill=\"none\" stroke=\"#000000\"/>\n",
       "<polygon fill=\"#000000\" points=\"185.5709,-703.5903 182.0708,-693.5904 178.5709,-703.5904 185.5709,-703.5903\" stroke=\"#000000\"/>\n",
       "</g>\n",
       "<!-- 112479479456 -->\n",
       "<g class=\"node\" id=\"node13\">\n",
       "<title>112479479456</title>\n",
       "<polygon fill=\"none\" points=\"118.269,-584.5 118.269,-620.5 245.8726,-620.5 245.8726,-584.5 118.269,-584.5\" stroke=\"#000000\"/>\n",
       "<text fill=\"#000000\" font-family=\"Times,serif\" font-size=\"14.00\" text-anchor=\"middle\" x=\"182.0708\" y=\"-598.3\">dropout_4: Dropout</text>\n",
       "</g>\n",
       "<!-- 112479480520&#45;&gt;112479479456 -->\n",
       "<g class=\"edge\" id=\"edge12\">\n",
       "<title>112479480520-&gt;112479479456</title>\n",
       "<path d=\"M182.0708,-657.4551C182.0708,-649.3828 182.0708,-639.6764 182.0708,-630.6817\" fill=\"none\" stroke=\"#000000\"/>\n",
       "<polygon fill=\"#000000\" points=\"185.5709,-630.5903 182.0708,-620.5904 178.5709,-630.5904 185.5709,-630.5903\" stroke=\"#000000\"/>\n",
       "</g>\n",
       "<!-- 112479911832 -->\n",
       "<g class=\"node\" id=\"node14\">\n",
       "<title>112479911832</title>\n",
       "<polygon fill=\"none\" points=\"129.9448,-511.5 129.9448,-547.5 234.1968,-547.5 234.1968,-511.5 129.9448,-511.5\" stroke=\"#000000\"/>\n",
       "<text fill=\"#000000\" font-family=\"Times,serif\" font-size=\"14.00\" text-anchor=\"middle\" x=\"182.0708\" y=\"-525.3\">dense_2: Dense</text>\n",
       "</g>\n",
       "<!-- 112479479456&#45;&gt;112479911832 -->\n",
       "<g class=\"edge\" id=\"edge13\">\n",
       "<title>112479479456-&gt;112479911832</title>\n",
       "<path d=\"M182.0708,-584.4551C182.0708,-576.3828 182.0708,-566.6764 182.0708,-557.6817\" fill=\"none\" stroke=\"#000000\"/>\n",
       "<polygon fill=\"#000000\" points=\"185.5709,-557.5903 182.0708,-547.5904 178.5709,-557.5904 185.5709,-557.5903\" stroke=\"#000000\"/>\n",
       "</g>\n",
       "<!-- 112480426360 -->\n",
       "<g class=\"node\" id=\"node15\">\n",
       "<title>112480426360</title>\n",
       "<polygon fill=\"none\" points=\"49.0825,-438.5 49.0825,-474.5 315.0591,-474.5 315.0591,-438.5 49.0825,-438.5\" stroke=\"#000000\"/>\n",
       "<text fill=\"#000000\" font-family=\"Times,serif\" font-size=\"14.00\" text-anchor=\"middle\" x=\"182.0708\" y=\"-452.3\">batch_normalization_2: BatchNormalization</text>\n",
       "</g>\n",
       "<!-- 112479911832&#45;&gt;112480426360 -->\n",
       "<g class=\"edge\" id=\"edge14\">\n",
       "<title>112479911832-&gt;112480426360</title>\n",
       "<path d=\"M182.0708,-511.4551C182.0708,-503.3828 182.0708,-493.6764 182.0708,-484.6817\" fill=\"none\" stroke=\"#000000\"/>\n",
       "<polygon fill=\"#000000\" points=\"185.5709,-484.5903 182.0708,-474.5904 178.5709,-484.5904 185.5709,-484.5903\" stroke=\"#000000\"/>\n",
       "</g>\n",
       "<!-- 112480425408 -->\n",
       "<g class=\"node\" id=\"node16\">\n",
       "<title>112480425408</title>\n",
       "<polygon fill=\"none\" points=\"118.269,-365.5 118.269,-401.5 245.8726,-401.5 245.8726,-365.5 118.269,-365.5\" stroke=\"#000000\"/>\n",
       "<text fill=\"#000000\" font-family=\"Times,serif\" font-size=\"14.00\" text-anchor=\"middle\" x=\"182.0708\" y=\"-379.3\">dropout_5: Dropout</text>\n",
       "</g>\n",
       "<!-- 112480426360&#45;&gt;112480425408 -->\n",
       "<g class=\"edge\" id=\"edge15\">\n",
       "<title>112480426360-&gt;112480425408</title>\n",
       "<path d=\"M182.0708,-438.4551C182.0708,-430.3828 182.0708,-420.6764 182.0708,-411.6817\" fill=\"none\" stroke=\"#000000\"/>\n",
       "<polygon fill=\"#000000\" points=\"185.5709,-411.5903 182.0708,-401.5904 178.5709,-411.5904 185.5709,-411.5903\" stroke=\"#000000\"/>\n",
       "</g>\n",
       "<!-- 56628345096 -->\n",
       "<g class=\"node\" id=\"node17\">\n",
       "<title>56628345096</title>\n",
       "<polygon fill=\"none\" points=\"129.9448,-292.5 129.9448,-328.5 234.1968,-328.5 234.1968,-292.5 129.9448,-292.5\" stroke=\"#000000\"/>\n",
       "<text fill=\"#000000\" font-family=\"Times,serif\" font-size=\"14.00\" text-anchor=\"middle\" x=\"182.0708\" y=\"-306.3\">dense_3: Dense</text>\n",
       "</g>\n",
       "<!-- 112480425408&#45;&gt;56628345096 -->\n",
       "<g class=\"edge\" id=\"edge16\">\n",
       "<title>112480425408-&gt;56628345096</title>\n",
       "<path d=\"M182.0708,-365.4551C182.0708,-357.3828 182.0708,-347.6764 182.0708,-338.6817\" fill=\"none\" stroke=\"#000000\"/>\n",
       "<polygon fill=\"#000000\" points=\"185.5709,-338.5903 182.0708,-328.5904 178.5709,-338.5904 185.5709,-338.5903\" stroke=\"#000000\"/>\n",
       "</g>\n",
       "<!-- 112481735176 -->\n",
       "<g class=\"node\" id=\"node18\">\n",
       "<title>112481735176</title>\n",
       "<polygon fill=\"none\" points=\"129.9448,-219.5 129.9448,-255.5 234.1968,-255.5 234.1968,-219.5 129.9448,-219.5\" stroke=\"#000000\"/>\n",
       "<text fill=\"#000000\" font-family=\"Times,serif\" font-size=\"14.00\" text-anchor=\"middle\" x=\"182.0708\" y=\"-233.3\">dense_4: Dense</text>\n",
       "</g>\n",
       "<!-- 56628345096&#45;&gt;112481735176 -->\n",
       "<g class=\"edge\" id=\"edge17\">\n",
       "<title>56628345096-&gt;112481735176</title>\n",
       "<path d=\"M182.0708,-292.4551C182.0708,-284.3828 182.0708,-274.6764 182.0708,-265.6817\" fill=\"none\" stroke=\"#000000\"/>\n",
       "<polygon fill=\"#000000\" points=\"185.5709,-265.5903 182.0708,-255.5904 178.5709,-265.5904 185.5709,-265.5903\" stroke=\"#000000\"/>\n",
       "</g>\n",
       "<!-- 112482693640 -->\n",
       "<g class=\"node\" id=\"node19\">\n",
       "<title>112482693640</title>\n",
       "<polygon fill=\"none\" points=\"123.3345,-146.5 123.3345,-182.5 240.8071,-182.5 240.8071,-146.5 123.3345,-146.5\" stroke=\"#000000\"/>\n",
       "<text fill=\"#000000\" font-family=\"Times,serif\" font-size=\"14.00\" text-anchor=\"middle\" x=\"182.0708\" y=\"-160.3\">Activation: Dense</text>\n",
       "</g>\n",
       "<!-- 112481735176&#45;&gt;112482693640 -->\n",
       "<g class=\"edge\" id=\"edge18\">\n",
       "<title>112481735176-&gt;112482693640</title>\n",
       "<path d=\"M182.0708,-219.4551C182.0708,-211.3828 182.0708,-201.6764 182.0708,-192.6817\" fill=\"none\" stroke=\"#000000\"/>\n",
       "<polygon fill=\"#000000\" points=\"185.5709,-192.5903 182.0708,-182.5904 178.5709,-192.5904 185.5709,-192.5903\" stroke=\"#000000\"/>\n",
       "</g>\n",
       "<!-- 112482812536 -->\n",
       "<g class=\"node\" id=\"node20\">\n",
       "<title>112482812536</title>\n",
       "<polygon fill=\"none\" points=\"129.9448,-73.5 129.9448,-109.5 234.1968,-109.5 234.1968,-73.5 129.9448,-73.5\" stroke=\"#000000\"/>\n",
       "<text fill=\"#000000\" font-family=\"Times,serif\" font-size=\"14.00\" text-anchor=\"middle\" x=\"182.0708\" y=\"-87.3\">dense_5: Dense</text>\n",
       "</g>\n",
       "<!-- 112482693640&#45;&gt;112482812536 -->\n",
       "<g class=\"edge\" id=\"edge19\">\n",
       "<title>112482693640-&gt;112482812536</title>\n",
       "<path d=\"M182.0708,-146.4551C182.0708,-138.3828 182.0708,-128.6764 182.0708,-119.6817\" fill=\"none\" stroke=\"#000000\"/>\n",
       "<polygon fill=\"#000000\" points=\"185.5709,-119.5903 182.0708,-109.5904 178.5709,-119.5904 185.5709,-119.5903\" stroke=\"#000000\"/>\n",
       "</g>\n",
       "<!-- 112482900232 -->\n",
       "<g class=\"node\" id=\"node21\">\n",
       "<title>112482900232</title>\n",
       "<polygon fill=\"none\" points=\"124.1104,-.5 124.1104,-36.5 240.0313,-36.5 240.0313,-.5 124.1104,-.5\" stroke=\"#000000\"/>\n",
       "<text fill=\"#000000\" font-family=\"Times,serif\" font-size=\"14.00\" text-anchor=\"middle\" x=\"182.0708\" y=\"-14.3\">Prediction: Dense</text>\n",
       "</g>\n",
       "<!-- 112482812536&#45;&gt;112482900232 -->\n",
       "<g class=\"edge\" id=\"edge20\">\n",
       "<title>112482812536-&gt;112482900232</title>\n",
       "<path d=\"M182.0708,-73.4551C182.0708,-65.3828 182.0708,-55.6764 182.0708,-46.6817\" fill=\"none\" stroke=\"#000000\"/>\n",
       "<polygon fill=\"#000000\" points=\"185.5709,-46.5903 182.0708,-36.5904 178.5709,-46.5904 185.5709,-46.5903\" stroke=\"#000000\"/>\n",
       "</g>\n",
       "</g>\n",
       "</svg>"
      ],
      "text/plain": [
       "<IPython.core.display.SVG object>"
      ]
     },
     "execution_count": 10,
     "metadata": {},
     "output_type": "execute_result"
    }
   ],
   "source": [
    "from IPython.display import SVG\n",
    "from keras.utils.vis_utils import model_to_dot\n",
    "SVG(model_to_dot(M.model,  show_shapes=False, show_layer_names=True, rankdir='HB').create(prog='dot', format='svg'))\n"
   ]
  },
  {
   "cell_type": "code",
   "execution_count": null,
   "metadata": {},
   "outputs": [],
   "source": []
  }
 ],
 "metadata": {
  "kernelspec": {
   "display_name": "Python 3",
   "language": "python",
   "name": "python3"
  },
  "language_info": {
   "codemirror_mode": {
    "name": "ipython",
    "version": 3
   },
   "file_extension": ".py",
   "mimetype": "text/x-python",
   "name": "python",
   "nbconvert_exporter": "python",
   "pygments_lexer": "ipython3",
   "version": "3.7.3"
  }
 },
 "nbformat": 4,
 "nbformat_minor": 2
}
